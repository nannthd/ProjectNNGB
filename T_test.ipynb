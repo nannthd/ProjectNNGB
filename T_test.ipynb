{
  "nbformat": 4,
  "nbformat_minor": 0,
  "metadata": {
    "colab": {
      "provenance": [],
      "authorship_tag": "ABX9TyP8Eq8zRaMpAdvM4b5UVqEw",
      "include_colab_link": true
    },
    "kernelspec": {
      "name": "python3",
      "display_name": "Python 3"
    },
    "language_info": {
      "name": "python"
    }
  },
  "cells": [
    {
      "cell_type": "markdown",
      "metadata": {
        "id": "view-in-github",
        "colab_type": "text"
      },
      "source": [
        "<a href=\"https://colab.research.google.com/github/nannthd/ProjectNNGB/blob/main/T_test.ipynb\" target=\"_parent\"><img src=\"https://colab.research.google.com/assets/colab-badge.svg\" alt=\"Open In Colab\"/></a>"
      ]
    },
    {
      "cell_type": "markdown",
      "source": [
        "#T-test"
      ],
      "metadata": {
        "id": "bqMs60N_hMEr"
      }
    },
    {
      "cell_type": "code",
      "source": [
        "import scipy.stats as stats"
      ],
      "metadata": {
        "id": "wvJ8eARDhLEC"
      },
      "execution_count": 5,
      "outputs": []
    },
    {
      "cell_type": "markdown",
      "source": [
        "##marker1"
      ],
      "metadata": {
        "id": "onHBDyBJiR_-"
      }
    },
    {
      "cell_type": "code",
      "execution_count": 6,
      "metadata": {
        "colab": {
          "base_uri": "https://localhost:8080/"
        },
        "id": "opvfKC6If6f_",
        "outputId": "624f84d5-33bc-4015-c6f1-95ad47a30a09"
      },
      "outputs": [
        {
          "output_type": "stream",
          "name": "stdout",
          "text": [
            "t-statistic: -4.887108490373588\n",
            "p-value: 0.00011860841449059739\n",
            "Reject the null hypothesis: There is a significant difference.\n"
          ]
        }
      ],
      "source": [
        "#marker1\n",
        "# ข้อมูลของ marker สำหรับกลุ่ม 1 และ กลุ่ม 2\n",
        "group1_marker = [-0.21475995,-0.24607486,-0.35547295,-0.33942917,-0.36917913,-0.27567565,-0.30029827,-0.19657815,-0.15682828,-0.3763314,-0.20813078,-0.27767688]\n",
        "group2_marker = [-0.07345158,-0.018326111,-0.11880783,-0.05770187,-0.12647636,0.04602458,-0.18837385,-0.23522182]\n",
        "\n",
        "# Independent t-test\n",
        "t_statistic, p_value = stats.ttest_ind(group1_marker, group2_marker)\n",
        "\n",
        "# พิมพ์ผลลัพธ์\n",
        "print(f\"t-statistic: {t_statistic}\")\n",
        "print(f\"p-value: {p_value}\")\n",
        "\n",
        "# ตัดสินใจ\n",
        "alpha = 0.05\n",
        "if p_value < alpha:\n",
        "    print(\"Reject the null hypothesis: There is a significant difference.\")\n",
        "else:\n",
        "    print(\"Fail to reject the null hypothesis: There is no significant difference.\")"
      ]
    },
    {
      "cell_type": "markdown",
      "source": [
        "##marker2"
      ],
      "metadata": {
        "id": "iNeShNp1iX2q"
      }
    },
    {
      "cell_type": "code",
      "execution_count": 7,
      "metadata": {
        "colab": {
          "base_uri": "https://localhost:8080/"
        },
        "outputId": "1ec9821c-38a9-4d02-f13d-8209d310afe4",
        "id": "1XmCSZiRhsZx"
      },
      "outputs": [
        {
          "output_type": "stream",
          "name": "stdout",
          "text": [
            "t-statistic: -6.551650667766501\n",
            "p-value: 3.714964619804941e-06\n",
            "Reject the null hypothesis: There is a significant difference.\n"
          ]
        }
      ],
      "source": [
        "#marker2\n",
        "# ข้อมูลของ marker สำหรับกลุ่ม 1 และ กลุ่ม 2\n",
        "group1_marker = [-0.24829577,-0.20539336,-0.35560286,-0.30760777,-0.34812567,-0.27463913,-0.25188687,-0.22688274,-0.10341637,-0.2884926,-0.20312509,-0.29722396]\n",
        "group2_marker = [-0.023805855,-0.056426838,-0.07859935,-0.01160294,-0.12891445,-0.005515323,-0.12818208,-0.11905009]\n",
        "\n",
        "# Independent t-test\n",
        "t_statistic, p_value = stats.ttest_ind(group1_marker, group2_marker)\n",
        "\n",
        "# พิมพ์ผลลัพธ์\n",
        "print(f\"t-statistic: {t_statistic}\")\n",
        "print(f\"p-value: {p_value}\")\n",
        "\n",
        "# ตัดสินใจ\n",
        "alpha = 0.05\n",
        "if p_value < alpha:\n",
        "    print(\"Reject the null hypothesis: There is a significant difference.\")\n",
        "else:\n",
        "    print(\"Fail to reject the null hypothesis: There is no significant difference.\")"
      ]
    },
    {
      "cell_type": "markdown",
      "source": [
        "##marker3"
      ],
      "metadata": {
        "id": "9xNEKaPniagQ"
      }
    },
    {
      "cell_type": "code",
      "source": [
        "#marker3\n",
        "# ข้อมูลของ marker สำหรับกลุ่ม 1 และ กลุ่ม 2\n",
        "group1_marker = [-0.24106336,-0.2104807,-0.27818972,-0.26166543,-0.36395103,-0.26845706,-0.2638678,-0.10976346,-0.07520539,-0.2769057,-0.16095942,-0.27320644]\n",
        "group2_marker = [-0.07010236,-0.079961516,-0.08372416,0.01206838,-0.112008736,0.0016637037,-0.052412182,-0.07761384]\n",
        "\n",
        "# Independent t-test\n",
        "t_statistic, p_value = stats.ttest_ind(group1_marker, group2_marker)\n",
        "\n",
        "# พิมพ์ผลลัพธ์\n",
        "print(f\"t-statistic: {t_statistic}\")\n",
        "print(f\"p-value: {p_value}\")\n",
        "\n",
        "# ตัดสินใจ\n",
        "alpha = 0.05\n",
        "if p_value < alpha:\n",
        "    print(\"Reject the null hypothesis: There is a significant difference.\")\n",
        "else:\n",
        "    print(\"Fail to reject the null hypothesis: There is no significant difference.\")"
      ],
      "metadata": {
        "colab": {
          "base_uri": "https://localhost:8080/"
        },
        "id": "DHPYYsnqi4N_",
        "outputId": "786c2d48-d3ff-4274-cbb0-2399e4d5bca7"
      },
      "execution_count": 8,
      "outputs": [
        {
          "output_type": "stream",
          "name": "stdout",
          "text": [
            "t-statistic: -5.564358892279103\n",
            "p-value: 2.7836411010194038e-05\n",
            "Reject the null hypothesis: There is a significant difference.\n"
          ]
        }
      ]
    },
    {
      "cell_type": "markdown",
      "source": [
        "##marker4"
      ],
      "metadata": {
        "id": "iA2yZ4QGicCD"
      }
    },
    {
      "cell_type": "code",
      "source": [
        "#marker4\n",
        "# ข้อมูลของ marker สำหรับกลุ่ม 1 และ กลุ่ม 2\n",
        "group1_marker = [-0.21526913,-0.18577021,-0.07161054,-0.17965905,-0.14766793,-0.2619952,-0.11010326,-0.14250363,-0.06310029,-0.10308974,-0.17664298,-0.046209134]\n",
        "group2_marker = [-0.067421444,0.13882037,-0.031969916,0.106198244,0.0707554,0.007569751,-0.01044076,0.052665833]\n",
        "\n",
        "# Independent t-test\n",
        "t_statistic, p_value = stats.ttest_ind(group1_marker, group2_marker)\n",
        "\n",
        "# พิมพ์ผลลัพธ์\n",
        "print(f\"t-statistic: {t_statistic}\")\n",
        "print(f\"p-value: {p_value}\")\n",
        "\n",
        "# ตัดสินใจ\n",
        "alpha = 0.05\n",
        "if p_value < alpha:\n",
        "    print(\"Reject the null hypothesis: There is a significant difference.\")\n",
        "else:\n",
        "    print(\"Fail to reject the null hypothesis: There is no significant difference.\")"
      ],
      "metadata": {
        "colab": {
          "base_uri": "https://localhost:8080/"
        },
        "id": "KC3FoqhEjP7H",
        "outputId": "6fa9c01f-d0b1-4747-dc75-fb7d5dae1676"
      },
      "execution_count": 9,
      "outputs": [
        {
          "output_type": "stream",
          "name": "stdout",
          "text": [
            "t-statistic: -5.673548412010815\n",
            "p-value: 2.2142582270534217e-05\n",
            "Reject the null hypothesis: There is a significant difference.\n"
          ]
        }
      ]
    },
    {
      "cell_type": "markdown",
      "source": [
        "##marker5"
      ],
      "metadata": {
        "id": "CNNfziqgidh_"
      }
    },
    {
      "cell_type": "code",
      "source": [
        "#marker5\n",
        "# ข้อมูลของ marker สำหรับกลุ่ม 1 และ กลุ่ม 2\n",
        "group1_marker = [-0.095886804,-0.23785539,-0.097828,-0.21902044,-0.14939734,-0.16489327,-0.1125076,-0.051438045,-0.10130325,-0.14099243,-0.10964404,-0.13793397]\n",
        "group2_marker = [-0.062084503,0.065042496,-0.037477355,0.027860237,0.09944138,0.09775653,-0.062452693,-0.003320633]\n",
        "\n",
        "# Independent t-test\n",
        "t_statistic, p_value = stats.ttest_ind(group1_marker, group2_marker)\n",
        "\n",
        "# พิมพ์ผลลัพธ์\n",
        "print(f\"t-statistic: {t_statistic}\")\n",
        "print(f\"p-value: {p_value}\")\n",
        "\n",
        "# ตัดสินใจ\n",
        "alpha = 0.05\n",
        "if p_value < alpha:\n",
        "    print(\"Reject the null hypothesis: There is a significant difference.\")\n",
        "else:\n",
        "    print(\"Fail to reject the null hypothesis: There is no significant difference.\")"
      ],
      "metadata": {
        "colab": {
          "base_uri": "https://localhost:8080/"
        },
        "id": "aFwwcfzVj1r5",
        "outputId": "fcf105ab-91fa-48db-bbbb-a358332cc4be"
      },
      "execution_count": 10,
      "outputs": [
        {
          "output_type": "stream",
          "name": "stdout",
          "text": [
            "t-statistic: -5.589020338223591\n",
            "p-value: 2.6430876172160215e-05\n",
            "Reject the null hypothesis: There is a significant difference.\n"
          ]
        }
      ]
    },
    {
      "cell_type": "markdown",
      "source": [
        "##marker6"
      ],
      "metadata": {
        "id": "stY3FnH1iemf"
      }
    },
    {
      "cell_type": "code",
      "source": [
        "#marker6\n",
        "# ข้อมูลของ marker สำหรับกลุ่ม 1 และ กลุ่ม 2\n",
        "group1_marker = [-0.3259457,-0.12217542,-0.14067143,-0.16466218,-0.07980277,-0.2723778,-0.13716978,-0.20765702,-0.18912905,-0.28001112,-0.4628733,-0.319234]\n",
        "group2_marker = [0.084651686,-0.046996463,0.017541092,-0.08591715,0.08099942,-0.028883878,-0.023130815,-0.08032145]\n",
        "\n",
        "# Independent t-test\n",
        "t_statistic, p_value = stats.ttest_ind(group1_marker, group2_marker)\n",
        "\n",
        "# พิมพ์ผลลัพธ์\n",
        "print(f\"t-statistic: {t_statistic}\")\n",
        "print(f\"p-value: {p_value}\")\n",
        "\n",
        "# ตัดสินใจ\n",
        "alpha = 0.05\n",
        "if p_value < alpha:\n",
        "    print(\"Reject the null hypothesis: There is a significant difference.\")\n",
        "else:\n",
        "    print(\"Fail to reject the null hypothesis: There is no significant difference.\")"
      ],
      "metadata": {
        "colab": {
          "base_uri": "https://localhost:8080/"
        },
        "id": "me0lq-JtkNxP",
        "outputId": "c3560894-6e27-4b34-bf13-4dab071b2c49"
      },
      "execution_count": 11,
      "outputs": [
        {
          "output_type": "stream",
          "name": "stdout",
          "text": [
            "t-statistic: -4.943720011611277\n",
            "p-value: 0.00010488347029718206\n",
            "Reject the null hypothesis: There is a significant difference.\n"
          ]
        }
      ]
    },
    {
      "cell_type": "markdown",
      "source": [
        "##marker7"
      ],
      "metadata": {
        "id": "ErOuWoUOigb6"
      }
    },
    {
      "cell_type": "code",
      "source": [
        "#marker7\n",
        "# ข้อมูลของ marker สำหรับกลุ่ม 1 และ กลุ่ม 2\n",
        "group1_marker = [-0.22001062,-0.19670905,-0.0751349,-0.0022647926,-0.09418141,-0.10891589,-0.27687192,-0.25058302,-0.11520121,-0.1971759,-0.25928986,-0.18321407]\n",
        "group2_marker = [-0.059385087,-0.07846669,0.060412813,-0.008915015,0.0965496,-0.0129626375,-0.0012567126,0.046431206]\n",
        "\n",
        "# Independent t-test\n",
        "t_statistic, p_value = stats.ttest_ind(group1_marker, group2_marker)\n",
        "\n",
        "# พิมพ์ผลลัพธ์\n",
        "print(f\"t-statistic: {t_statistic}\")\n",
        "print(f\"p-value: {p_value}\")\n",
        "\n",
        "# ตัดสินใจ\n",
        "alpha = 0.05\n",
        "if p_value < alpha:\n",
        "    print(\"Reject the null hypothesis: There is a significant difference.\")\n",
        "else:\n",
        "    print(\"Fail to reject the null hypothesis: There is no significant difference.\")"
      ],
      "metadata": {
        "colab": {
          "base_uri": "https://localhost:8080/"
        },
        "id": "R9ZkUBsHkhTC",
        "outputId": "24ff79bf-1714-4461-eaf5-38e1d7190066"
      },
      "execution_count": 12,
      "outputs": [
        {
          "output_type": "stream",
          "name": "stdout",
          "text": [
            "t-statistic: -4.903670031173791\n",
            "p-value: 0.00011441359781290946\n",
            "Reject the null hypothesis: There is a significant difference.\n"
          ]
        }
      ]
    },
    {
      "cell_type": "markdown",
      "source": [
        "##marker8"
      ],
      "metadata": {
        "id": "9zH5w2KOih7L"
      }
    },
    {
      "cell_type": "code",
      "source": [
        "#marker8\n",
        "# ข้อมูลของ marker สำหรับกลุ่ม 1 และ กลุ่ม 2\n",
        "group1_marker = [-0.10158478,-0.102823734,-0.08402135,-0.12292073,-0.054619845,-0.10582189,-0.10394642,-0.13935165,-0.14210775,-0.14159454,-0.09946353,-0.18115114]\n",
        "group2_marker = [0.029322352,0.02677176,-0.031094009,0.053263072,0.038599286,0.15236163,0.023037469,-0.14411348]\n",
        "\n",
        "# Independent t-test\n",
        "t_statistic, p_value = stats.ttest_ind(group1_marker, group2_marker)\n",
        "\n",
        "# พิมพ์ผลลัพธ์\n",
        "print(f\"t-statistic: {t_statistic}\")\n",
        "print(f\"p-value: {p_value}\")\n",
        "\n",
        "# ตัดสินใจ\n",
        "alpha = 0.05\n",
        "if p_value < alpha:\n",
        "    print(\"Reject the null hypothesis: There is a significant difference.\")\n",
        "else:\n",
        "    print(\"Fail to reject the null hypothesis: There is no significant difference.\")"
      ],
      "metadata": {
        "colab": {
          "base_uri": "https://localhost:8080/"
        },
        "id": "-z6LKkVjktUp",
        "outputId": "9148e75c-6483-4880-aeec-4d797cac96c8"
      },
      "execution_count": 13,
      "outputs": [
        {
          "output_type": "stream",
          "name": "stdout",
          "text": [
            "t-statistic: -5.0440130233811855\n",
            "p-value: 8.441395959688496e-05\n",
            "Reject the null hypothesis: There is a significant difference.\n"
          ]
        }
      ]
    },
    {
      "cell_type": "markdown",
      "source": [
        "##marker9"
      ],
      "metadata": {
        "id": "Tz8yltWVijD7"
      }
    },
    {
      "cell_type": "code",
      "source": [
        "#marker9\n",
        "# ข้อมูลของ marker สำหรับกลุ่ม 1 และ กลุ่ม 2\n",
        "group1_marker = [-0.15921634,-0.15125118,-0.03505474,-0.08043775,-0.09115951,-0.21676897,-0.18617079,-0.16295905,-0.06230989,-0.2534203,-0.1659464,-0.040801812]\n",
        "group2_marker = [0.04628173,0.034951974,-0.0365262,0.036796868,0.09662719,0.10324108,0.02242142,-0.052071277]\n",
        "\n",
        "# Independent t-test\n",
        "t_statistic, p_value = stats.ttest_ind(group1_marker, group2_marker)\n",
        "\n",
        "# พิมพ์ผลลัพธ์\n",
        "print(f\"t-statistic: {t_statistic}\")\n",
        "print(f\"p-value: {p_value}\")\n",
        "\n",
        "# ตัดสินใจ\n",
        "alpha = 0.05\n",
        "if p_value < alpha:\n",
        "    print(\"Reject the null hypothesis: There is a significant difference.\")\n",
        "else:\n",
        "    print(\"Fail to reject the null hypothesis: There is no significant difference.\")"
      ],
      "metadata": {
        "colab": {
          "base_uri": "https://localhost:8080/"
        },
        "id": "wN-ybVqLk_aq",
        "outputId": "0fbacb9a-8808-4299-e827-733b135d6723"
      },
      "execution_count": 14,
      "outputs": [
        {
          "output_type": "stream",
          "name": "stdout",
          "text": [
            "t-statistic: -5.561501825505166\n",
            "p-value: 2.800413352080819e-05\n",
            "Reject the null hypothesis: There is a significant difference.\n"
          ]
        }
      ]
    },
    {
      "cell_type": "markdown",
      "source": [
        "##marker10"
      ],
      "metadata": {
        "id": "dlVxWAqYikEi"
      }
    },
    {
      "cell_type": "code",
      "source": [
        "#marker10\n",
        "# ข้อมูลของ marker สำหรับกลุ่ม 1 และ กลุ่ม 2\n",
        "group1_marker = [-0.14146677,-0.16509202,-0.14789912,-0.18809235,-0.03846153,-0.23951903,-0.20335098,-0.1889195,-0.03701139,-0.18867078,-0.14694992,-0.18490434]\n",
        "group2_marker = [-0.05082847,-0.049552836,-0.005170026,-0.07141527,0.0038826899,0.0028723518,-0.019449748,-0.08798099]\n",
        "\n",
        "# Independent t-test\n",
        "t_statistic, p_value = stats.ttest_ind(group1_marker, group2_marker)\n",
        "\n",
        "# พิมพ์ผลลัพธ์\n",
        "print(f\"t-statistic: {t_statistic}\")\n",
        "print(f\"p-value: {p_value}\")\n",
        "\n",
        "# ตัดสินใจ\n",
        "alpha = 0.05\n",
        "if p_value < alpha:\n",
        "    print(\"Reject the null hypothesis: There is a significant difference.\")\n",
        "else:\n",
        "    print(\"Fail to reject the null hypothesis: There is no significant difference.\")"
      ],
      "metadata": {
        "colab": {
          "base_uri": "https://localhost:8080/"
        },
        "id": "PWTo52cUlSN-",
        "outputId": "0f6481f8-8327-468d-c8da-d5aab04e549f"
      },
      "execution_count": 15,
      "outputs": [
        {
          "output_type": "stream",
          "name": "stdout",
          "text": [
            "t-statistic: -5.0202659803941305\n",
            "p-value: 8.885913181390591e-05\n",
            "Reject the null hypothesis: There is a significant difference.\n"
          ]
        }
      ]
    },
    {
      "cell_type": "markdown",
      "source": [
        "##marker11"
      ],
      "metadata": {
        "id": "ObPnMVTQilTN"
      }
    },
    {
      "cell_type": "code",
      "source": [
        "#marker11\n",
        "# ข้อมูลของ marker สำหรับกลุ่ม 1 และ กลุ่ม 2\n",
        "group1_marker = [-0.35422048,-0.32836953,-0.23416959,-0.27663928,-0.27410877,-0.28105414,-0.46073094,-0.23591219,-0.2680572,-0.34380984,-0.20113942,-0.3824325]\n",
        "group2_marker = [-0.16235527,-0.14223555,-0.1708041,-0.18668014,-0.117608435,-0.18090653,-0.11488892,-0.14003897]\n",
        "\n",
        "# Independent t-test\n",
        "t_statistic, p_value = stats.ttest_ind(group1_marker, group2_marker)\n",
        "\n",
        "# พิมพ์ผลลัพธ์\n",
        "print(f\"t-statistic: {t_statistic}\")\n",
        "print(f\"p-value: {p_value}\")\n",
        "\n",
        "# ตัดสินใจ\n",
        "alpha = 0.05\n",
        "if p_value < alpha:\n",
        "    print(\"Reject the null hypothesis: There is a significant difference.\")\n",
        "else:\n",
        "    print(\"Fail to reject the null hypothesis: There is no significant difference.\")"
      ],
      "metadata": {
        "colab": {
          "base_uri": "https://localhost:8080/"
        },
        "id": "39GAv88eneea",
        "outputId": "2b400ace-cd03-45aa-b5a0-4952eccd2fac"
      },
      "execution_count": 16,
      "outputs": [
        {
          "output_type": "stream",
          "name": "stdout",
          "text": [
            "t-statistic: -5.553125808817911\n",
            "p-value: 2.8501849854086563e-05\n",
            "Reject the null hypothesis: There is a significant difference.\n"
          ]
        }
      ]
    },
    {
      "cell_type": "markdown",
      "source": [
        "##marker12"
      ],
      "metadata": {
        "id": "XsaPMIlGnOC-"
      }
    },
    {
      "cell_type": "code",
      "source": [
        "#marker12\n",
        "# ข้อมูลของ marker สำหรับกลุ่ม 1 และ กลุ่ม 2\n",
        "group1_marker = [-0.29656455,-0.24655919,-0.18371125,-0.18981457,-0.20512038,-0.25645483,-0.46279642,-0.14718875,-0.19127023,-0.28870142,-0.21100084,-0.27699474]\n",
        "group2_marker = [-0.08484349,-0.066935375,-0.05103655,-0.18772459,-0.09354878,-0.064528115,-0.08742877,-0.0438022]\n",
        "\n",
        "# Independent t-test\n",
        "t_statistic, p_value = stats.ttest_ind(group1_marker, group2_marker)\n",
        "\n",
        "# พิมพ์ผลลัพธ์\n",
        "print(f\"t-statistic: {t_statistic}\")\n",
        "print(f\"p-value: {p_value}\")\n",
        "\n",
        "# ตัดสินใจ\n",
        "alpha = 0.05\n",
        "if p_value < alpha:\n",
        "    print(\"Reject the null hypothesis: There is a significant difference.\")\n",
        "else:\n",
        "    print(\"Fail to reject the null hypothesis: There is no significant difference.\")"
      ],
      "metadata": {
        "colab": {
          "base_uri": "https://localhost:8080/"
        },
        "id": "zEOuUHGgnt1c",
        "outputId": "8ef93a8d-2c72-4bf7-94e8-47380c599cd3"
      },
      "execution_count": 17,
      "outputs": [
        {
          "output_type": "stream",
          "name": "stdout",
          "text": [
            "t-statistic: -5.017395675795973\n",
            "p-value: 8.94123750361103e-05\n",
            "Reject the null hypothesis: There is a significant difference.\n"
          ]
        }
      ]
    },
    {
      "cell_type": "markdown",
      "source": [
        "##marker13"
      ],
      "metadata": {
        "id": "eVZPkLKvnPFW"
      }
    },
    {
      "cell_type": "code",
      "source": [
        "#marker13\n",
        "# ข้อมูลของ marker สำหรับกลุ่ม 1 และ กลุ่ม 2\n",
        "group1_marker = [-0.46199417,-0.31278256,-0.39385268,-0.3143589,-0.32397142,-0.35139355,-0.5225161,-0.32350236,-0.445001,-0.5064498,-0.42519376,-0.33903956]\n",
        "group2_marker = [-0.23869485,-0.23417844,-0.2104406,-0.17269802,-0.13662688,-0.21647193,-0.33438993,-0.27590525]\n",
        "\n",
        "# Independent t-test\n",
        "t_statistic, p_value = stats.ttest_ind(group1_marker, group2_marker)\n",
        "\n",
        "# พิมพ์ผลลัพธ์\n",
        "print(f\"t-statistic: {t_statistic}\")\n",
        "print(f\"p-value: {p_value}\")\n",
        "\n",
        "# ตัดสินใจ\n",
        "alpha = 0.05\n",
        "if p_value < alpha:\n",
        "    print(\"Reject the null hypothesis: There is a significant difference.\")\n",
        "else:\n",
        "    print(\"Fail to reject the null hypothesis: There is no significant difference.\")"
      ],
      "metadata": {
        "colab": {
          "base_uri": "https://localhost:8080/"
        },
        "id": "lyG9T2QoplKq",
        "outputId": "76d02b24-9738-404b-9a1f-6266e950a389"
      },
      "execution_count": 18,
      "outputs": [
        {
          "output_type": "stream",
          "name": "stdout",
          "text": [
            "t-statistic: -5.123141462145673\n",
            "p-value: 7.117476567753866e-05\n",
            "Reject the null hypothesis: There is a significant difference.\n"
          ]
        }
      ]
    },
    {
      "cell_type": "markdown",
      "source": [
        "##marker14"
      ],
      "metadata": {
        "id": "6-QNeoCSnSVB"
      }
    },
    {
      "cell_type": "code",
      "source": [
        "#marker14\n",
        "# ข้อมูลของ marker สำหรับกลุ่ม 1 และ กลุ่ม 2\n",
        "group1_marker = [-0.39494118,-0.2862987,-0.3027908,-0.25083426,-0.2653064,-0.35271567,-0.39042655,-0.23020528,-0.38742673,-0.35945934,-0.29466906,-0.23056427]\n",
        "group2_marker = [-0.22818154,-0.17228363,-0.13817415,-0.18221325,-0.11015048,-0.11979661,-0.20889287,-0.24995148]\n",
        "\n",
        "# Independent t-test\n",
        "t_statistic, p_value = stats.ttest_ind(group1_marker, group2_marker)\n",
        "\n",
        "# พิมพ์ผลลัพธ์\n",
        "print(f\"t-statistic: {t_statistic}\")\n",
        "print(f\"p-value: {p_value}\")\n",
        "\n",
        "# ตัดสินใจ\n",
        "alpha = 0.05\n",
        "if p_value < alpha:\n",
        "    print(\"Reject the null hypothesis: There is a significant difference.\")\n",
        "else:\n",
        "    print(\"Fail to reject the null hypothesis: There is no significant difference.\")"
      ],
      "metadata": {
        "colab": {
          "base_uri": "https://localhost:8080/"
        },
        "id": "YllZ7BZAp6ps",
        "outputId": "9a0dae7f-df6e-48c3-83dd-a97660c1df86"
      },
      "execution_count": 19,
      "outputs": [
        {
          "output_type": "stream",
          "name": "stdout",
          "text": [
            "t-statistic: -5.108649100372816\n",
            "p-value: 7.343017274496634e-05\n",
            "Reject the null hypothesis: There is a significant difference.\n"
          ]
        }
      ]
    },
    {
      "cell_type": "markdown",
      "source": [
        "##marker15"
      ],
      "metadata": {
        "id": "Jc7C-ezrnTKM"
      }
    },
    {
      "cell_type": "code",
      "source": [
        "#marker15\n",
        "# ข้อมูลของ marker สำหรับกลุ่ม 1 และ กลุ่ม 2\n",
        "group1_marker = [-0.17623463,-0.09314325,-0.03653237,-0.093528055,-0.13145974,-0.16212088,-0.088729925,-0.016310718,-0.07605618,-0.051996186,-0.084157646,-0.08690099]\n",
        "group2_marker = [0.10144016,0.022891767,0.040936906,-0.014286051,-0.005264763,0.053323038,-0.010530642,-0.045723774]\n",
        "\n",
        "# Independent t-test\n",
        "t_statistic, p_value = stats.ttest_ind(group1_marker, group2_marker)\n",
        "\n",
        "# พิมพ์ผลลัพธ์\n",
        "print(f\"t-statistic: {t_statistic}\")\n",
        "print(f\"p-value: {p_value}\")\n",
        "\n",
        "# ตัดสินใจ\n",
        "alpha = 0.05\n",
        "if p_value < alpha:\n",
        "    print(\"Reject the null hypothesis: There is a significant difference.\")\n",
        "else:\n",
        "    print(\"Fail to reject the null hypothesis: There is no significant difference.\")"
      ],
      "metadata": {
        "colab": {
          "base_uri": "https://localhost:8080/"
        },
        "id": "SPqezD0CqLHn",
        "outputId": "e7d5a383-50fd-4ec9-8286-89f140fc1a7d"
      },
      "execution_count": 20,
      "outputs": [
        {
          "output_type": "stream",
          "name": "stdout",
          "text": [
            "t-statistic: -5.107931591480857\n",
            "p-value: 7.354371649052633e-05\n",
            "Reject the null hypothesis: There is a significant difference.\n"
          ]
        }
      ]
    },
    {
      "cell_type": "markdown",
      "source": [
        "##marker16"
      ],
      "metadata": {
        "id": "2VrfmOQ7nUFS"
      }
    },
    {
      "cell_type": "code",
      "source": [
        "#marker16\n",
        "# ข้อมูลของ marker สำหรับกลุ่ม 1 และ กลุ่ม 2\n",
        "group1_marker = [-0.25455365,-0.046745032,-0.15962437,-0.073721014,-0.15812203,-0.19611286,-0.20015131,-0.074641876,-0.14511308,-0.24553138,-0.21586,-0.10541959]\n",
        "group2_marker = [0.15395316,-0.029738601,0.028698443,-0.02880178,-0.06388806,0.16090694,-0.0014480375,-0.045145225]\n",
        "\n",
        "# Independent t-test\n",
        "t_statistic, p_value = stats.ttest_ind(group1_marker, group2_marker)\n",
        "\n",
        "# พิมพ์ผลลัพธ์\n",
        "print(f\"t-statistic: {t_statistic}\")\n",
        "print(f\"p-value: {p_value}\")\n",
        "\n",
        "# ตัดสินใจ\n",
        "alpha = 0.05\n",
        "if p_value < alpha:\n",
        "    print(\"Reject the null hypothesis: There is a significant difference.\")\n",
        "else:\n",
        "    print(\"Fail to reject the null hypothesis: There is no significant difference.\")"
      ],
      "metadata": {
        "colab": {
          "base_uri": "https://localhost:8080/"
        },
        "id": "nERHE_bQrC3F",
        "outputId": "2bd02141-868b-41d9-f93d-1b39cc7d0af9"
      },
      "execution_count": 21,
      "outputs": [
        {
          "output_type": "stream",
          "name": "stdout",
          "text": [
            "t-statistic: -5.053520875728774\n",
            "p-value: 8.269847550571468e-05\n",
            "Reject the null hypothesis: There is a significant difference.\n"
          ]
        }
      ]
    },
    {
      "cell_type": "markdown",
      "source": [
        "##marker17"
      ],
      "metadata": {
        "id": "RLXiCjtcnVBz"
      }
    },
    {
      "cell_type": "code",
      "source": [
        "#marker17\n",
        "# ข้อมูลของ marker สำหรับกลุ่ม 1 และ กลุ่ม 2\n",
        "group1_marker = [-0.20720959,-0.20465991,-0.17440371,-0.08421124,-0.26064473,-0.17034204,-0.32178888,-0.1641772,-0.23110472,-0.181774,-0.22917628,-0.18461655]\n",
        "group2_marker = [-0.110607564,-0.05488845,-0.0806586,-0.11509229,-0.1285272,0.01992369,-0.05325482,-0.0915509]\n",
        "\n",
        "# Independent t-test\n",
        "t_statistic, p_value = stats.ttest_ind(group1_marker, group2_marker)\n",
        "\n",
        "# พิมพ์ผลลัพธ์\n",
        "print(f\"t-statistic: {t_statistic}\")\n",
        "print(f\"p-value: {p_value}\")\n",
        "\n",
        "# ตัดสินใจ\n",
        "alpha = 0.05\n",
        "if p_value < alpha:\n",
        "    print(\"Reject the null hypothesis: There is a significant difference.\")\n",
        "else:\n",
        "    print(\"Fail to reject the null hypothesis: There is no significant difference.\")"
      ],
      "metadata": {
        "colab": {
          "base_uri": "https://localhost:8080/"
        },
        "id": "PtGp5O2Frfql",
        "outputId": "d502d392-0d38-4c27-8d2b-70ff1c31b734"
      },
      "execution_count": 22,
      "outputs": [
        {
          "output_type": "stream",
          "name": "stdout",
          "text": [
            "t-statistic: -5.0163136543368525\n",
            "p-value: 8.962184335627063e-05\n",
            "Reject the null hypothesis: There is a significant difference.\n"
          ]
        }
      ]
    },
    {
      "cell_type": "markdown",
      "source": [
        "##marker18"
      ],
      "metadata": {
        "id": "zrdTrUmJnV_q"
      }
    },
    {
      "cell_type": "code",
      "source": [
        "#marker18\n",
        "# ข้อมูลของ marker สำหรับกลุ่ม 1 และ กลุ่ม 2\n",
        "group1_marker = [-0.21752828,-0.35649985,-0.25175354,-0.31256065,-0.41348505,-0.17246872,-0.40677655,-0.2578961,-0.34119296,-0.44284955,-0.38577646,-0.23053145]\n",
        "group2_marker = [-0.16391492,-0.2201239,-0.1146318,-0.09928881,-0.16349635,-0.017243126,-0.17121601,-0.16349341]\n",
        "\n",
        "# Independent t-test\n",
        "t_statistic, p_value = stats.ttest_ind(group1_marker, group2_marker)\n",
        "\n",
        "# พิมพ์ผลลัพธ์\n",
        "print(f\"t-statistic: {t_statistic}\")\n",
        "print(f\"p-value: {p_value}\")\n",
        "\n",
        "# ตัดสินใจ\n",
        "alpha = 0.05\n",
        "if p_value < alpha:\n",
        "    print(\"Reject the null hypothesis: There is a significant difference.\")\n",
        "else:\n",
        "    print(\"Fail to reject the null hypothesis: There is no significant difference.\")"
      ],
      "metadata": {
        "colab": {
          "base_uri": "https://localhost:8080/"
        },
        "id": "hviv_Em0r6JP",
        "outputId": "fa11b25e-e8e9-4704-e410-d9ba57b2edd6"
      },
      "execution_count": 23,
      "outputs": [
        {
          "output_type": "stream",
          "name": "stdout",
          "text": [
            "t-statistic: -4.893426812721877\n",
            "p-value: 0.00011698987508943298\n",
            "Reject the null hypothesis: There is a significant difference.\n"
          ]
        }
      ]
    },
    {
      "cell_type": "markdown",
      "source": [
        "##marker19"
      ],
      "metadata": {
        "id": "x6058bnjnXLQ"
      }
    },
    {
      "cell_type": "code",
      "source": [
        "#marker19\n",
        "# ข้อมูลของ marker สำหรับกลุ่ม 1 และ กลุ่ม 2\n",
        "group1_marker = [-0.26080704,0.04253943,-0.13144569,-0.043721117,-0.34060428,-0.22644344,-0.34352896,-0.31494254,-0.24539195,-0.41620728,-0.25368991,-0.06543027]\n",
        "group2_marker = [0.13551922,0.123672344,-0.10557641,0.010543567,0.05003433,0.18325076,0.07584235,0.2590662]\n",
        "\n",
        "# Independent t-test\n",
        "t_statistic, p_value = stats.ttest_ind(group1_marker, group2_marker)\n",
        "\n",
        "# พิมพ์ผลลัพธ์\n",
        "print(f\"t-statistic: {t_statistic}\")\n",
        "print(f\"p-value: {p_value}\")\n",
        "\n",
        "# ตัดสินใจ\n",
        "alpha = 0.05\n",
        "if p_value < alpha:\n",
        "    print(\"Reject the null hypothesis: There is a significant difference.\")\n",
        "else:\n",
        "    print(\"Fail to reject the null hypothesis: There is no significant difference.\")"
      ],
      "metadata": {
        "colab": {
          "base_uri": "https://localhost:8080/"
        },
        "id": "211YtW9SsnYp",
        "outputId": "466d8798-aae3-4934-cba6-eae43e376a00"
      },
      "execution_count": 24,
      "outputs": [
        {
          "output_type": "stream",
          "name": "stdout",
          "text": [
            "t-statistic: -5.236780406481089\n",
            "p-value: 5.577245906144563e-05\n",
            "Reject the null hypothesis: There is a significant difference.\n"
          ]
        }
      ]
    },
    {
      "cell_type": "markdown",
      "source": [
        "##marker20"
      ],
      "metadata": {
        "id": "eH2JLJmLnX_y"
      }
    },
    {
      "cell_type": "code",
      "source": [
        "#marker20\n",
        "# ข้อมูลของ marker สำหรับกลุ่ม 1 และ กลุ่ม 2\n",
        "group1_marker = [-0.14887547,-0.10720442,-0.06881018,-0.15858823,-0.15761626,-0.12747914,-0.15398382,-0.08359529,-0.12128892,-0.11779294,-0.124919906,-0.069543205]\n",
        "group2_marker = [-0.015435997,0.02205151,-0.0010755485,-0.03291033,0.012753551,8.73E-04,0.029991962,0.070913434]\n",
        "\n",
        "# Independent t-test\n",
        "t_statistic, p_value = stats.ttest_ind(group1_marker, group2_marker)\n",
        "\n",
        "# พิมพ์ผลลัพธ์\n",
        "print(f\"t-statistic: {t_statistic}\")\n",
        "print(f\"p-value: {p_value}\")\n",
        "\n",
        "# ตัดสินใจ\n",
        "alpha = 0.05\n",
        "if p_value < alpha:\n",
        "    print(\"Reject the null hypothesis: There is a significant difference.\")\n",
        "else:\n",
        "    print(\"Fail to reject the null hypothesis: There is no significant difference.\")"
      ],
      "metadata": {
        "colab": {
          "base_uri": "https://localhost:8080/"
        },
        "id": "XPP5XRSQs3A8",
        "outputId": "43fa5a23-bfdc-4149-a1db-4547e39f4f92"
      },
      "execution_count": 25,
      "outputs": [
        {
          "output_type": "stream",
          "name": "stdout",
          "text": [
            "t-statistic: -8.922978965685411\n",
            "p-value: 5.004536860219632e-08\n",
            "Reject the null hypothesis: There is a significant difference.\n"
          ]
        }
      ]
    },
    {
      "cell_type": "markdown",
      "source": [
        "##marker21"
      ],
      "metadata": {
        "id": "BGLymL3YueVq"
      }
    },
    {
      "cell_type": "code",
      "source": [
        "#marker20\n",
        "# ข้อมูลของ marker สำหรับกลุ่ม 1 และ กลุ่ม 2\n",
        "group1_marker = [-0.17852098,-0.08607066,-0.028067298,-0.08481694,-0.1788753,-0.1334578,-0.16657616,-0.035724442,-0.13181405,-0.10946055,-0.12681305,-0.056246005]\n",
        "group2_marker = [0.0020563,-0.0028633766,0.015256895,-0.014178008,0.043791287,0.030483678,-0.038436588,0.06068968]\n",
        "\n",
        "# Independent t-test\n",
        "t_statistic, p_value = stats.ttest_ind(group1_marker, group2_marker)\n",
        "\n",
        "# พิมพ์ผลลัพธ์\n",
        "print(f\"t-statistic: {t_statistic}\")\n",
        "print(f\"p-value: {p_value}\")\n",
        "\n",
        "# ตัดสินใจ\n",
        "alpha = 0.05\n",
        "if p_value < alpha:\n",
        "    print(\"Reject the null hypothesis: There is a significant difference.\")\n",
        "else:\n",
        "    print(\"Fail to reject the null hypothesis: There is no significant difference.\")"
      ],
      "metadata": {
        "colab": {
          "base_uri": "https://localhost:8080/"
        },
        "id": "2WH8F5nPvlJb",
        "outputId": "628e61a1-89c3-47f4-cc61-4a785e140ff5"
      },
      "execution_count": 26,
      "outputs": [
        {
          "output_type": "stream",
          "name": "stdout",
          "text": [
            "t-statistic: -5.842178347045666\n",
            "p-value: 1.5595198209243244e-05\n",
            "Reject the null hypothesis: There is a significant difference.\n"
          ]
        }
      ]
    },
    {
      "cell_type": "markdown",
      "source": [
        "##marker22"
      ],
      "metadata": {
        "id": "53ju4Rqyufhf"
      }
    },
    {
      "cell_type": "markdown",
      "source": [
        "##marker23"
      ],
      "metadata": {
        "id": "m36vlPVwux3o"
      }
    },
    {
      "cell_type": "markdown",
      "source": [
        "##marker24"
      ],
      "metadata": {
        "id": "JREKVoYquysE"
      }
    },
    {
      "cell_type": "markdown",
      "source": [
        "##marker25"
      ],
      "metadata": {
        "id": "v0tl0htBvbsG"
      }
    },
    {
      "cell_type": "markdown",
      "source": [
        "##marker26"
      ],
      "metadata": {
        "id": "R_cIupkpvca6"
      }
    },
    {
      "cell_type": "markdown",
      "source": [
        "##marker27"
      ],
      "metadata": {
        "id": "yl9GMMzyvdyH"
      }
    },
    {
      "cell_type": "markdown",
      "source": [
        "##marker28"
      ],
      "metadata": {
        "id": "V-P2sbKUve6_"
      }
    },
    {
      "cell_type": "markdown",
      "source": [
        "##marker29"
      ],
      "metadata": {
        "id": "c5YZWAR9vgDX"
      }
    },
    {
      "cell_type": "markdown",
      "source": [
        "##marker30"
      ],
      "metadata": {
        "id": "c65jiBePvh0Y"
      }
    },
    {
      "cell_type": "code",
      "source": [],
      "metadata": {
        "id": "f3QnnN19vjkZ"
      },
      "execution_count": null,
      "outputs": []
    }
  ]
}