{
  "nbformat": 4,
  "nbformat_minor": 0,
  "metadata": {
    "colab": {
      "provenance": [],
      "authorship_tag": "ABX9TyP4jFeDtB5gWGFN9kI9VP2w",
      "include_colab_link": true
    },
    "kernelspec": {
      "name": "python3",
      "display_name": "Python 3"
    },
    "language_info": {
      "name": "python"
    }
  },
  "cells": [
    {
      "cell_type": "markdown",
      "metadata": {
        "id": "view-in-github",
        "colab_type": "text"
      },
      "source": [
        "<a href=\"https://colab.research.google.com/github/nannthd/ProjectNNGB/blob/main/%E0%B9%80%E0%B8%9B%E0%B9%87%E0%B8%99%E0%B9%81%E0%B8%AA%E0%B8%99%E0%B9%80%E0%B8%A5%E0%B8%A2%E0%B8%AB%E0%B8%A3%E0%B8%AD%E0%B8%9E%E0%B8%B5%E0%B9%88.ipynb\" target=\"_parent\"><img src=\"https://colab.research.google.com/assets/colab-badge.svg\" alt=\"Open In Colab\"/></a>"
      ]
    },
    {
      "cell_type": "code",
      "source": [
        "from google.colab import drive\n",
        "drive.mount('/content/drive')"
      ],
      "metadata": {
        "colab": {
          "base_uri": "https://localhost:8080/"
        },
        "id": "NL74O9wHZ8ZE",
        "outputId": "9820c053-4dec-4701-c07c-77c019f45b45"
      },
      "execution_count": 37,
      "outputs": [
        {
          "output_type": "stream",
          "name": "stdout",
          "text": [
            "Drive already mounted at /content/drive; to attempt to forcibly remount, call drive.mount(\"/content/drive\", force_remount=True).\n"
          ]
        }
      ]
    },
    {
      "cell_type": "code",
      "source": [
        "import pandas as pd\n",
        "\n",
        "# กำหนด path ของไฟล์ Excel\n",
        "file_path = '/content/drive/MyDrive/CMA Log2Ratio 20 cases_All Chro. sum - Copy.xlsx'\n",
        "\n",
        "# ใช้ pandas อ่านไฟล์ Excel\n",
        "df = pd.read_excel(file_path)\n",
        "\n",
        "# แสดงข้อมูล\n",
        "print(df)"
      ],
      "metadata": {
        "colab": {
          "base_uri": "https://localhost:8080/"
        },
        "id": "CR1b3_QJYPVA",
        "outputId": "d33fec10-f542-44bf-cb74-208b75895115"
      },
      "execution_count": 39,
      "outputs": [
        {
          "output_type": "stream",
          "name": "stdout",
          "text": [
            "        Marker  Patient 1  Patient 2  Patient 3  Patient 4  Patient 5  \\\n",
            "0            1  -0.056999   0.042429   0.162529  -0.023274  -0.162452   \n",
            "1            2  -0.000111   0.006487   0.220551  -0.029102  -0.135588   \n",
            "2            3   0.033493   0.097330   0.203595   0.068216  -0.010187   \n",
            "3            4   0.088755   0.062200   0.260971   0.062057   0.016592   \n",
            "4            5   0.095331   0.170797  -0.063325   0.038927   0.002285   \n",
            "...        ...        ...        ...        ...        ...        ...   \n",
            "702340  702341  -0.065951  -0.081566  -0.059993   0.108931  -0.042126   \n",
            "702341  702342   0.027374  -0.093313  -0.098843   0.054726  -0.072949   \n",
            "702342  702343  -0.075961  -0.132387  -0.098261  -0.007828  -0.102823   \n",
            "702343  702344   0.014864  -0.147439  -0.138788  -0.071871  -0.136101   \n",
            "702344  702345  -0.078944   0.026351   0.045547   0.090660   0.043463   \n",
            "\n",
            "        Patient 6  Patient 7  Patient 8  Patient 9  ...  Patient 11  \\\n",
            "0        0.063553   0.177779  -0.222862  -0.089189  ...   -0.246125   \n",
            "1        0.052907   0.256079  -0.074606   0.068508  ...   -0.369608   \n",
            "2        0.049158   0.314281  -0.167393  -0.004084  ...   -0.278100   \n",
            "3        0.039314   0.392344  -0.021227   0.151406  ...   -0.543645   \n",
            "4        0.092509   0.297651   0.002169  -0.040209  ...   -0.134244   \n",
            "...           ...        ...        ...        ...  ...         ...   \n",
            "702340  -0.088103  -0.021434  -0.053191  -0.052719  ...   -0.102907   \n",
            "702341  -0.097147  -0.100675  -0.192497  -0.110397  ...   -0.163259   \n",
            "702342  -0.143174  -0.085401  -0.157544  -0.110228  ...   -0.167089   \n",
            "702343  -0.156288  -0.170080  -0.305021  -0.170165  ...   -0.232874   \n",
            "702344   0.026107   0.095272   0.163140   0.066878  ...    0.077785   \n",
            "\n",
            "        Patient 12  Patient 13  Patient 14  Patient 15  Patient 16  \\\n",
            "0        -0.109570    0.168564    0.181891   -0.100208   -0.171713   \n",
            "1        -0.030771    0.134797    0.198841   -0.051207   -0.105824   \n",
            "2        -0.139894    0.184535    0.143390   -0.015679   -0.064616   \n",
            "3        -0.038373    0.151604    0.160708    0.033616    0.000304   \n",
            "4         0.033860    0.010218    0.011354    0.125215    0.045174   \n",
            "...            ...         ...         ...         ...         ...   \n",
            "702340   -0.064995    0.126417   -0.046720   -0.084675    0.005224   \n",
            "702341   -0.042873   -0.005832   -0.103592   -0.096950   -0.024909   \n",
            "702342   -0.066173    0.043161   -0.113172   -0.117947   -0.044433   \n",
            "702343   -0.046265   -0.094082   -0.173241   -0.133469   -0.077814   \n",
            "702344   -0.015170    0.146614    0.070044    0.023894    0.042819   \n",
            "\n",
            "        Patient 17  Patient 18  Patient 19  Patient 20  \n",
            "0        -0.079477   -0.015769   -0.089926   -0.090717  \n",
            "1         0.006109    0.018680    0.032070   -0.140180  \n",
            "2         0.011808    0.037537   -0.030732   -0.125110  \n",
            "3         0.096799    0.070252    0.090168   -0.116113  \n",
            "4         0.000874    0.035056    0.130751    0.176065  \n",
            "...            ...         ...         ...         ...  \n",
            "702340    0.010351    0.269110    0.050427    0.041277  \n",
            "702341   -0.007507    0.246380   -0.083871   -0.065612  \n",
            "702342   -0.048112    0.170848   -0.032116   -0.047913  \n",
            "702343   -0.069230    0.142328   -0.166741   -0.160884  \n",
            "702344    0.033464    0.049835    0.137054    0.125966  \n",
            "\n",
            "[702345 rows x 21 columns]\n"
          ]
        }
      ]
    },
    {
      "cell_type": "code",
      "source": [
        "# เพิ่มคอลัมน์ 'Label' โดยให้มีค่าเท่ากับข้อมูลจริงในแต่ละแถว\n",
        "df['Label'] = [0, 0, 0, 0, 0, 0, 0, 0, 0, 0, 0, 0, 1, 1, 1, 1, 1, 1, 1, 1] * (len(df)//20) + [0] * (len(df)%20)"
      ],
      "metadata": {
        "id": "dYm56ZHigpC9"
      },
      "execution_count": 27,
      "outputs": []
    },
    {
      "cell_type": "code",
      "source": [
        "# ตรวจสอบว่าคอลัมน์ 'Label' เป็นตัวเลขทั้งหมด\n",
        "df['Label'] = pd.to_numeric(df['Label'], errors='coerce')"
      ],
      "metadata": {
        "id": "p44TFqV0i_x9"
      },
      "execution_count": 32,
      "outputs": []
    },
    {
      "cell_type": "code",
      "source": [
        "from sklearn.model_selection import train_test_split\n",
        "from sklearn.ensemble import RandomForestClassifier\n",
        "from sklearn.metrics import accuracy_score, classification_report"
      ],
      "metadata": {
        "id": "uRUDS5ycgQYS"
      },
      "execution_count": 28,
      "outputs": []
    },
    {
      "cell_type": "code",
      "source": [
        "# ตรวจสอบว่า X_train มีคอลัมน์ที่มีข้อมูลชนิด string อยู่\n",
        "if X_train.select_dtypes(include='object').shape[1] > 0:\n",
        "    print(\"Error: X_train contains columns with string data. Please clean the data.\")\n",
        "    # แสดงคอลัมน์ที่มีข้อมูลชนิด string\n",
        "    print(\"Columns with string data:\", X_train.select_dtypes(include='object').columns)\n",
        "else:\n",
        "    # กำหนด random seed ใน RandomForestClassifier\n",
        "    model = RandomForestClassifier(random_state=random_seed)\n",
        "\n",
        "    # ทำการ train แบบจำลอง\n",
        "    X_train = train_data.drop('Label', axis=1)\n",
        "    y_train = train_data['Label']\n",
        "    model.fit(X_train, y_train)\n",
        "\n",
        "    # ทำการ test แบบจำลอง\n",
        "    X_test = test_data.drop('Label', axis=1)\n",
        "    y_test = test_data['Label']\n",
        "    accuracy = model.score(X_test, y_test)\n",
        "\n",
        "    print(f'Accuracy: {accuracy}')"
      ],
      "metadata": {
        "colab": {
          "base_uri": "https://localhost:8080/"
        },
        "id": "HgOjstmwkg9E",
        "outputId": "470ead78-90bb-45ab-e89d-22c5278f46fc"
      },
      "execution_count": 36,
      "outputs": [
        {
          "output_type": "stream",
          "name": "stdout",
          "text": [
            "Error: X_train contains columns with string data. Please clean the data.\n",
            "Columns with string data: Index(['Unnamed: 0', 'Patient 1', 'Patient 2', 'Patient 3', 'Patient 4',\n",
            "       'Patient 5', 'Patient 6', 'Patient 7', 'Patient 8', 'Patient 9',\n",
            "       'Patient 10', 'Patient 11', 'Patient 12', 'Patient 13', 'Patient 14',\n",
            "       'Patient 15', 'Patient 16', 'Patient 17', 'Patient 18', 'Patient 19',\n",
            "       'Patient 20', 'Marker_Unnamed: 0', 'Marker_Patient 1',\n",
            "       'Marker_Patient 2', 'Marker_Patient 3', 'Marker_Patient 4',\n",
            "       'Marker_Patient 5', 'Marker_Patient 6', 'Marker_Patient 7',\n",
            "       'Marker_Patient 8', 'Marker_Patient 9', 'Marker_Patient 10',\n",
            "       'Marker_Patient 11', 'Marker_Patient 12', 'Marker_Patient 13',\n",
            "       'Marker_Patient 14', 'Marker_Patient 15', 'Marker_Patient 16',\n",
            "       'Marker_Patient 17', 'Marker_Patient 18', 'Marker_Patient 19',\n",
            "       'Marker_Patient 20', 'Marker_Marker_Unnamed: 0',\n",
            "       'Marker_Marker_Patient 1', 'Marker_Marker_Patient 2',\n",
            "       'Marker_Marker_Patient 3', 'Marker_Marker_Patient 4',\n",
            "       'Marker_Marker_Patient 5', 'Marker_Marker_Patient 6',\n",
            "       'Marker_Marker_Patient 7', 'Marker_Marker_Patient 8',\n",
            "       'Marker_Marker_Patient 9', 'Marker_Marker_Patient 10',\n",
            "       'Marker_Marker_Patient 11', 'Marker_Marker_Patient 12',\n",
            "       'Marker_Marker_Patient 13', 'Marker_Marker_Patient 14',\n",
            "       'Marker_Marker_Patient 15', 'Marker_Marker_Patient 16',\n",
            "       'Marker_Marker_Patient 17', 'Marker_Marker_Patient 18',\n",
            "       'Marker_Marker_Patient 19', 'Marker_Marker_Patient 20'],\n",
            "      dtype='object')\n"
          ]
        }
      ]
    }
  ]
}