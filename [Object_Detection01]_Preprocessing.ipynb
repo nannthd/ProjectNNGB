{
  "nbformat": 4,
  "nbformat_minor": 0,
  "metadata": {
    "colab": {
      "provenance": [],
      "authorship_tag": "ABX9TyPQOnNvZz4wqj1RB9VXBZZv",
      "include_colab_link": true
    },
    "kernelspec": {
      "name": "python3",
      "display_name": "Python 3"
    },
    "language_info": {
      "name": "python"
    }
  },
  "cells": [
    {
      "cell_type": "markdown",
      "metadata": {
        "id": "view-in-github",
        "colab_type": "text"
      },
      "source": [
        "<a href=\"https://colab.research.google.com/github/nannthd/ProjectNNGB/blob/main/%5BObject_Detection01%5D_Preprocessing.ipynb\" target=\"_parent\"><img src=\"https://colab.research.google.com/assets/colab-badge.svg\" alt=\"Open In Colab\"/></a>"
      ]
    },
    {
      "cell_type": "code",
      "source": [
        "import pandas as pd"
      ],
      "metadata": {
        "id": "3mFjQI6az_Ey"
      },
      "execution_count": 1,
      "outputs": []
    },
    {
      "cell_type": "code",
      "source": [
        "from google.colab import drive\n",
        "drive.mount('/content/drive')"
      ],
      "metadata": {
        "colab": {
          "base_uri": "https://localhost:8080/"
        },
        "id": "g7zjCSMN0Bxc",
        "outputId": "abd0d45b-5097-4772-be3c-bebee711244e"
      },
      "execution_count": 2,
      "outputs": [
        {
          "output_type": "stream",
          "name": "stdout",
          "text": [
            "Mounted at /content/drive\n"
          ]
        }
      ]
    },
    {
      "cell_type": "markdown",
      "source": [
        "#การเตรียมข้อมูลภาพ (Preprocessing)\n",
        "การเตรียมข้อมูลภาพ (Image Preprocessing) เป็นกระบวนการที่จำเป็นต้องทำก่อนนำภาพมาฝึกโมเดล Deep Learning หรือ Machine Learning เพื่อให้โมเดลสามารถเรียนรู้และทำนายผลได้อย่างถูกต้อง โดยขั้นตอนการเตรียมข้อมูลภาพมีหลายอย่าง ได้แก่ การปรับขนาดภาพ (Resizing), การแปลงสี (Color Conversion), การปรับความสว่างและความเข้มของภาพ (Brightness and Contrast), การเติมสี (Color Filling), การตัดภาพ (Image Cropping) เป็นต้น"
      ],
      "metadata": {
        "id": "GCaewcj7y_iI"
      }
    },
    {
      "cell_type": "code",
      "source": [
        "# อ่านไฟล์ภาพและไฟล์ติดตาม\n",
        "image = cv2.imread('image.jpg')\n",
        "annotation = json.load(open('annotation.json'))\n",
        "\n",
        "# กำหนดค่าความสูงและความกว้างของภาพเพื่อใช้ในการปรับขนาด\n",
        "image_height, image_width, _ = image.shape\n",
        "\n",
        "# ปรับขนาดภาพให้เหมาะสมกับการทำงานของโมเดล\n",
        "resized_image, resize_ratio = resize_image(image, max_side_length=800)\n",
        "\n",
        "# ปรับความสว่าง ความคมชัด และคอนทราสต์ในภาพ\n",
        "enhanced_image = enhance_image(resized_image)\n",
        "\n",
        "# สร้างชุดข้อมูลภาพที่ติดตาม (annotated dataset) โดยเพิ่มขอบเขตหรือส่วนของโครโมโซมที่ต้องการนับลงในภาพ\n",
        "annotated_image, annotation_info = create_annotated_image(enhanced_image, annotation)"
      ],
      "metadata": {
        "id": "r9chNA_y0__Q"
      },
      "execution_count": null,
      "outputs": []
    },
    {
      "cell_type": "code",
      "source": [
        "import cv2\n",
        "import numpy as np\n",
        "\n",
        "# อ่านภาพจากไฟล์\n",
        "img = cv2.imread('01.jpg')\n",
        "\n",
        "# ปรับขนาดภาพ\n",
        "#img = cv2.resize(img, (224, 224))\n",
        "\n",
        "# แปลงสีจาก BGR เป็น RGB\n",
        "img = cv2.cvtColor(img, cv2.COLOR_BGR2RGB)\n",
        "\n",
        "# ปรับความสว่างและความเข้มของภาพ\n",
        "img = cv2.convertScaleAbs(img, alpha=1.2, beta=20)\n",
        "\n",
        "# ตัดภาพ\n",
        "x = 100\n",
        "y = 100\n",
        "h = 300\n",
        "w = 300\n",
        "img = img[y:y+h, x:x+w]\n",
        "\n",
        "# แสดงภาพ\n",
        "cv2.imshow('Image', img)\n",
        "cv2.waitKey(0)\n",
        "cv2.destroyAllWindows()"
      ],
      "metadata": {
        "id": "18zHV22jzeca"
      },
      "execution_count": null,
      "outputs": []
    },
    {
      "cell_type": "code",
      "source": [
        "from google.colab.patches import cv2_imshow\n",
        "\n",
        "img = cv2.imread('01.jpg')\n",
        "cv2_imshow(img)\n",
        "cv2.waitKey(0)\n",
        "cv2.destroyAllWindows()"
      ],
      "metadata": {
        "id": "dVs_XNG3zC2Y"
      },
      "execution_count": null,
      "outputs": []
    },
    {
      "cell_type": "code",
      "source": [
        "import cv2\n",
        "img = cv2.imread('01.jpg')\n",
        "if img is None:\n",
        "    print(\"Image file not found or corrupted\")"
      ],
      "metadata": {
        "colab": {
          "base_uri": "https://localhost:8080/"
        },
        "id": "qZARyEbM3eSq",
        "outputId": "f51e51fd-68e6-45bb-8d7e-1471458140f4"
      },
      "execution_count": 12,
      "outputs": [
        {
          "output_type": "stream",
          "name": "stdout",
          "text": [
            "Image file not found or corrupted\n"
          ]
        }
      ]
    }
  ]
}