{
  "nbformat": 4,
  "nbformat_minor": 0,
  "metadata": {
    "colab": {
      "provenance": [],
      "authorship_tag": "ABX9TyM4lKFp8opjKOVtyLd0EQtA",
      "include_colab_link": true
    },
    "kernelspec": {
      "name": "python3",
      "display_name": "Python 3"
    },
    "language_info": {
      "name": "python"
    }
  },
  "cells": [
    {
      "cell_type": "markdown",
      "metadata": {
        "id": "view-in-github",
        "colab_type": "text"
      },
      "source": [
        "<a href=\"https://colab.research.google.com/github/nannthd/ProjectNNGB/blob/main/YOLOv8.ipynb\" target=\"_parent\"><img src=\"https://colab.research.google.com/assets/colab-badge.svg\" alt=\"Open In Colab\"/></a>"
      ]
    },
    {
      "cell_type": "code",
      "source": [
        "import pandas as pd"
      ],
      "metadata": {
        "id": "kB-wTIKDJaQd"
      },
      "execution_count": 3,
      "outputs": []
    },
    {
      "cell_type": "code",
      "source": [
        "from google.colab import drive\n",
        "drive.mount('/content/drive')"
      ],
      "metadata": {
        "colab": {
          "base_uri": "https://localhost:8080/"
        },
        "id": "UdHWdrw6JW3a",
        "outputId": "83a826a8-0272-46e7-c201-57e0de91ea79"
      },
      "execution_count": 4,
      "outputs": [
        {
          "output_type": "stream",
          "name": "stdout",
          "text": [
            "Mounted at /content/drive\n"
          ]
        }
      ]
    },
    {
      "cell_type": "code",
      "source": [
        "!pip install ultralytics "
      ],
      "metadata": {
        "id": "tEUZVp_qI-8u"
      },
      "execution_count": null,
      "outputs": []
    },
    {
      "cell_type": "code",
      "source": [
        "from ultralytics import YOLO"
      ],
      "metadata": {
        "id": "Egc9A_9aI3lk"
      },
      "execution_count": 6,
      "outputs": []
    },
    {
      "cell_type": "code",
      "source": [
        "# Load a model\n",
        "model = YOLO('yolov8n.pt')"
      ],
      "metadata": {
        "id": "UOcsZtXxJuHU"
      },
      "execution_count": 8,
      "outputs": []
    },
    {
      "cell_type": "code",
      "source": [
        "# Load an image\n",
        "img = '/content/drive/MyDrive/ฝึกงาน/รูปโครโมโซมสำหรับเทรน/01.jpg'"
      ],
      "metadata": {
        "id": "EPGM7tCJJuwL"
      },
      "execution_count": 11,
      "outputs": []
    },
    {
      "cell_type": "code",
      "execution_count": 12,
      "metadata": {
        "colab": {
          "base_uri": "https://localhost:8080/"
        },
        "id": "Z8T8BuFyI1Ot",
        "outputId": "0a71cd6e-7de2-4b87-eb38-951b5144f6a3"
      },
      "outputs": [
        {
          "output_type": "stream",
          "name": "stderr",
          "text": [
            "\n",
            "image 1/1 /content/drive/MyDrive/ฝึกงาน/รูปโครโมโซมสำหรับเทรน/01.jpg: 640x640 1 person, 5 birds, 16 kites, 721.3ms\n",
            "Speed: 24.1ms preprocess, 721.3ms inference, 30.4ms postprocess per image at shape (1, 3, 640, 640)\n"
          ]
        }
      ],
      "source": [
        "# Make predictions on the image\n",
        "results = model(img)"
      ]
    },
    {
      "cell_type": "code",
      "source": [
        "!pip install git+https://github.com/ultralytics/yolov5.git"
      ],
      "metadata": {
        "id": "9PtK0LoDNeQ5"
      },
      "execution_count": null,
      "outputs": []
    },
    {
      "cell_type": "code",
      "source": [
        "# Filter out only the predictions for chromosomes\n",
        "import torch\n",
        "\n",
        "device = torch.device('cuda' if torch.cuda.is_available() else 'cpu')\n",
        "\n",
        "chromosomes = []\n",
        "threshold = 0.5"
      ],
      "metadata": {
        "id": "pSc9WZWYO_Go"
      },
      "execution_count": 31,
      "outputs": []
    },
    {
      "cell_type": "code",
      "source": [
        "# Filter out only the predictions for chromosomes\n",
        "chromosomes = []\n",
        "for result in results:\n",
        "    classes = result.names\n",
        "if 'chromosome' in classes:\n",
        "    class_index = classes.index('chromosome')\n",
        "    class_tensor = result.pred[class_index]\n",
        "    filtered_tensor = class_tensor[class_tensor[:, -1] > threshold]\n",
        "else:\n",
        "    filtered_tensor = torch.empty((0, 6), device=device)"
      ],
      "metadata": {
        "id": "zO8DrEnHJzTj"
      },
      "execution_count": 32,
      "outputs": []
    },
    {
      "cell_type": "code",
      "source": [
        "# Filter out only the predictions for chromosomes\n",
        "chromosomes = []\n",
        "for result in results:\n",
        "    classes = result.names\n",
        "    if 'chromosome' in classes:\n",
        "        class_index = classes.index('chromosome')\n",
        "        class_tensor = result.pred[class_index]\n",
        "        filtered_tensor = class_tensor[class_tensor[:, -1] > threshold]\n",
        "        for i in range(filtered_tensor.shape[0]):\n",
        "            bbox = filtered_tensor[i][:4]\n",
        "            confidence = filtered_tensor[i][-1]\n",
        "            chromosomes.append({'bbox': bbox, 'confidence': confidence})\n",
        "    else:\n",
        "        filtered_tensor = torch.empty((0, 6), device=device)\n",
        "print('Number of chromosomes:', len(chromosomes))"
      ],
      "metadata": {
        "colab": {
          "base_uri": "https://localhost:8080/"
        },
        "id": "PAC8sGVSRXAd",
        "outputId": "43535493-7e79-49b0-cc7a-88e2b8499f05"
      },
      "execution_count": 36,
      "outputs": [
        {
          "output_type": "stream",
          "name": "stdout",
          "text": [
            "Number of chromosomes: 0\n"
          ]
        }
      ]
    },
    {
      "cell_type": "code",
      "source": [
        "# Filter out only the predictions for chromosomes\n",
        "chromosomes = []\n",
        "for result in results:\n",
        "    classes = result.names\n",
        "    if 'chromosome' in classes:\n",
        "        class_index = classes.index('chromosome')\n",
        "        class_tensor = result.pred[class_index]\n",
        "        filtered_tensor = class_tensor[class_tensor[:, -1] > threshold]\n",
        "        for obj in filtered_tensor:\n",
        "            label = result.names[obj[5].long()]\n",
        "            if label == 'chromosome':\n",
        "                chromosomes.append(obj)\n",
        "    else:\n",
        "        filtered_tensor = torch.empty((0, 6), device=device)\n",
        "\n",
        "# Print the number of chromosomes\n",
        "print(len(chromosomes))"
      ],
      "metadata": {
        "colab": {
          "base_uri": "https://localhost:8080/"
        },
        "id": "m8Ysx0JORvdK",
        "outputId": "1944990b-2423-445f-e7b7-72226997df0a"
      },
      "execution_count": 37,
      "outputs": [
        {
          "output_type": "stream",
          "name": "stdout",
          "text": [
            "0\n"
          ]
        }
      ]
    },
    {
      "cell_type": "code",
      "source": [
        "# Print the number of chromosomes\n",
        "print(len(chromosomes))"
      ],
      "metadata": {
        "colab": {
          "base_uri": "https://localhost:8080/"
        },
        "id": "b89cs-LdJ01x",
        "outputId": "a10e0fdb-896e-449b-b814-9a780132f02e"
      },
      "execution_count": 33,
      "outputs": [
        {
          "output_type": "stream",
          "name": "stdout",
          "text": [
            "0\n"
          ]
        }
      ]
    },
    {
      "cell_type": "code",
      "source": [
        "# Count the number of chromosomes in each tensor and sum them up\n",
        "num_chromosomes = sum([len(tensor) for tensor in chromosomes])\n",
        "num_chromosomes"
      ],
      "metadata": {
        "colab": {
          "base_uri": "https://localhost:8080/"
        },
        "id": "_92HYeLFQu6W",
        "outputId": "6b35d981-dc2b-4fb8-9814-cdee5bca53b9"
      },
      "execution_count": 35,
      "outputs": [
        {
          "output_type": "execute_result",
          "data": {
            "text/plain": [
              "0"
            ]
          },
          "metadata": {},
          "execution_count": 35
        }
      ]
    }
  ]
}