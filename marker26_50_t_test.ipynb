{
  "nbformat": 4,
  "nbformat_minor": 0,
  "metadata": {
    "colab": {
      "provenance": [],
      "include_colab_link": true
    },
    "kernelspec": {
      "name": "python3",
      "display_name": "Python 3"
    },
    "language_info": {
      "name": "python"
    }
  },
  "cells": [
    {
      "cell_type": "markdown",
      "metadata": {
        "id": "view-in-github",
        "colab_type": "text"
      },
      "source": [
        "<a href=\"https://colab.research.google.com/github/nannthd/ProjectNNGB/blob/main/marker26_50_t_test.ipynb\" target=\"_parent\"><img src=\"https://colab.research.google.com/assets/colab-badge.svg\" alt=\"Open In Colab\"/></a>"
      ]
    },
    {
      "cell_type": "markdown",
      "source": [
        "#T-test"
      ],
      "metadata": {
        "id": "bqMs60N_hMEr"
      }
    },
    {
      "cell_type": "code",
      "source": [
        "import scipy.stats as stats"
      ],
      "metadata": {
        "id": "wvJ8eARDhLEC"
      },
      "execution_count": null,
      "outputs": []
    },
    {
      "cell_type": "markdown",
      "source": [
        "##marker26"
      ],
      "metadata": {
        "id": "onHBDyBJiR_-"
      }
    },
    {
      "cell_type": "code",
      "execution_count": null,
      "metadata": {
        "colab": {
          "base_uri": "https://localhost:8080/"
        },
        "id": "opvfKC6If6f_",
        "outputId": "a9d86f27-77ae-40f9-d2ad-3c4e450e867e"
      },
      "outputs": [
        {
          "output_type": "stream",
          "name": "stdout",
          "text": [
            "t-statistic: 6.972760413301582\n",
            "p-value: 1.6367678806290479e-06\n",
            "Reject the null hypothesis: There is a significant difference.\n"
          ]
        }
      ],
      "source": [
        "#marke26\n",
        "# ข้อมูลของ marker สำหรับกลุ่ม 1 และ กลุ่ม 2\n",
        "group1_marker = [0.14056122,0.1039904,0.12071164,0.05861343,0.1311989,0.23426838,0.22118552,0.08230702,0.100664146,0.21075328,0.17422736,0.16337001]\n",
        "group2_marker = [1.57E-04,0.016108295,0.022059195,0.016045604,-0.004535653,-0.04554186,-0.017441818,-0.0032582497]\n",
        "\n",
        "# Independent t-test\n",
        "t_statistic, p_value = stats.ttest_ind(group1_marker, group2_marker)\n",
        "\n",
        "# พิมพ์ผลลัพธ์\n",
        "print(f\"t-statistic: {t_statistic}\")\n",
        "print(f\"p-value: {p_value}\")\n",
        "\n",
        "# ตัดสินใจ\n",
        "alpha = 0.05\n",
        "if p_value < alpha:\n",
        "    print(\"Reject the null hypothesis: There is a significant difference.\")\n",
        "else:\n",
        "    print(\"Fail to reject the null hypothesis: There is no significant difference.\")\n",
        "\n",
        "\n"
      ]
    },
    {
      "cell_type": "markdown",
      "source": [
        "##marker27"
      ],
      "metadata": {
        "id": "iNeShNp1iX2q"
      }
    },
    {
      "cell_type": "code",
      "execution_count": null,
      "metadata": {
        "colab": {
          "base_uri": "https://localhost:8080/"
        },
        "outputId": "535951b8-26f7-4c83-b111-2be704b90fca",
        "id": "1XmCSZiRhsZx"
      },
      "outputs": [
        {
          "output_type": "stream",
          "name": "stdout",
          "text": [
            "t-statistic: 4.934105579758492\n",
            "p-value: 0.00010709478852790984\n",
            "Reject the null hypothesis: There is a significant difference.\n"
          ]
        }
      ],
      "source": [
        "#marker2\n",
        "# ข้อมูลของ marker สำหรับกลุ่ม 1 และ กลุ่ม 2\n",
        "group1_marker = [0.36068624,0.33732137,0.24745347,0.27368304,0.26657826,0.49682075,0.4530719,0.335507,0.24646033,0.43433133,0.4644007,0.32749486]\n",
        "group2_marker = [-0.12626283,-0.10115842,-0.080085866,-0.035265084,-0.018220432,-0.062272847,0.053958032,-0.09597243]\n",
        "\n",
        "# Independent t-test\n",
        "t_statistic, p_value = stats.ttest_ind(group1_marker, group2_marker)\n",
        "\n",
        "# พิมพ์ผลลัพธ์\n",
        "print(f\"t-statistic: {t_statistic}\")\n",
        "print(f\"p-value: {p_value}\")\n",
        "\n",
        "# ตัดสินใจ\n",
        "alpha = 0.05\n",
        "if p_value < alpha:\n",
        "    print(\"Reject the null hypothesis: There is a significant difference.\")\n",
        "else:\n",
        "    print(\"Fail to reject the null hypothesis: There is no significant difference.\")\n",
        "\n",
        "\n",
        "\n"
      ]
    },
    {
      "cell_type": "markdown",
      "source": [
        "##marker28"
      ],
      "metadata": {
        "id": "9xNEKaPniagQ"
      }
    },
    {
      "cell_type": "code",
      "source": [
        "#marker3\n",
        "# ข้อมูลของ marker สำหรับกลุ่ม 1 และ กลุ่ม 2\n",
        "group1_marker = [0.02484217,0.04209147,0.042637408,0.15575516,0.08324107,0.13563944,0.14290808,0.008499985,0.0030448104,0.14858358,0.10417821,0.07812818]\n",
        "group2_marker = [0.050172977,0.19858798,0.1508114,0.10715213,0.220166,0.115967,0.27349702,0.21353087]\n",
        "\n",
        "# Independent t-test\n",
        "t_statistic, p_value = stats.ttest_ind(group1_marker, group2_marker)\n",
        "\n",
        "# พิมพ์ผลลัพธ์\n",
        "print(f\"t-statistic: {t_statistic}\")\n",
        "print(f\"p-value: {p_value}\")\n",
        "\n",
        "# ตัดสินใจ\n",
        "alpha = 0.05\n",
        "if p_value < alpha:\n",
        "    print(\"Reject the null hypothesis: There is a significant difference.\")\n",
        "else:\n",
        "    print(\"Fail to reject the null hypothesis: There is no significant difference.\")\n",
        "\n",
        "\n",
        "\n"
      ],
      "metadata": {
        "colab": {
          "base_uri": "https://localhost:8080/"
        },
        "id": "DHPYYsnqi4N_",
        "outputId": "a114bf1a-5a45-410e-d8b2-6793c3119dc7"
      },
      "execution_count": null,
      "outputs": [
        {
          "output_type": "stream",
          "name": "stdout",
          "text": [
            "t-statistic: -2.951134737151957\n",
            "p-value: 0.008545605071750327\n",
            "Reject the null hypothesis: There is a significant difference.\n"
          ]
        }
      ]
    },
    {
      "cell_type": "markdown",
      "source": [
        "##marker29"
      ],
      "metadata": {
        "id": "iA2yZ4QGicCD"
      }
    },
    {
      "cell_type": "code",
      "source": [
        "#marker29\n",
        "# ข้อมูลของ marker สำหรับกลุ่ม 1 และ กลุ่ม 2\n",
        "group1_marker = [0.05323617,0.11853301,0.101444125,0.1857919,0.072588846,0.20125885,0.24896777,0.08579636,0.18567203,0.24343778,0.15976,0.14067347]\n",
        "group2_marker = [-0.11301466,-0.029836215,0.060838617,-0.02593658,0.06570361,-0.110268414,0.015380934,0.036293983]\n",
        "\n",
        "# Independent t-test\n",
        "t_statistic, p_value = stats.ttest_ind(group1_marker, group2_marker)\n",
        "\n",
        "# พิมพ์ผลลัพธ์\n",
        "print(f\"t-statistic: {t_statistic}\")\n",
        "print(f\"p-value: {p_value}\")\n",
        "\n",
        "# ตัดสินใจ\n",
        "alpha = 0.05\n",
        "if p_value < alpha:\n",
        "    print(\"Reject the null hypothesis: There is a significant difference.\")\n",
        "else:\n",
        "    print(\"Fail to reject the null hypothesis: There is no significant difference.\")\n",
        "\n",
        "\n",
        "\n",
        "\n",
        "\n",
        "\n",
        "\n"
      ],
      "metadata": {
        "colab": {
          "base_uri": "https://localhost:8080/"
        },
        "id": "KC3FoqhEjP7H",
        "outputId": "e996f8be-05fd-4142-bd62-b035e4dca037"
      },
      "execution_count": null,
      "outputs": [
        {
          "output_type": "stream",
          "name": "stdout",
          "text": [
            "t-statistic: 5.286342151767795\n",
            "p-value: 5.016712100706135e-05\n",
            "Reject the null hypothesis: There is a significant difference.\n"
          ]
        }
      ]
    },
    {
      "cell_type": "markdown",
      "source": [
        "##marker30"
      ],
      "metadata": {
        "id": "CNNfziqgidh_"
      }
    },
    {
      "cell_type": "code",
      "source": [
        "#marker30\n",
        "# ข้อมูลของ marker สำหรับกลุ่ม 1 และ กลุ่ม 2\n",
        "group1_marker = [-0.095886804,-0.23785539,-0.097828,-0.21902044,-0.14939734,-0.16489327,-0.1125076,-0.051438045,-0.10130325,-0.14099243,-0.10964404,-0.13793397]\n",
        "group2_marker = [-0.09209713,-0.057462208,-0.08969938,-0.020729883,0.07506497,-0.1531994,0.12824258,0.045299828]\n",
        "\n",
        "# Independent t-test\n",
        "t_statistic, p_value = stats.ttest_ind(group1_marker, group2_marker)\n",
        "\n",
        "# พิมพ์ผลลัพธ์\n",
        "print(f\"t-statistic: {t_statistic}\")\n",
        "print(f\"p-value: {p_value}\")\n",
        "\n",
        "# ตัดสินใจ\n",
        "alpha = 0.05\n",
        "if p_value < alpha:\n",
        "    print(\"Reject the null hypothesis: There is a significant difference.\")\n",
        "else:\n",
        "    print(\"Fail to reject the null hypothesis: There is no significant difference.\")"
      ],
      "metadata": {
        "colab": {
          "base_uri": "https://localhost:8080/"
        },
        "id": "aFwwcfzVj1r5",
        "outputId": "5abf70ed-d91a-4c6f-bb69-a3dab1d7e15c"
      },
      "execution_count": null,
      "outputs": [
        {
          "output_type": "stream",
          "name": "stdout",
          "text": [
            "t-statistic: -3.4396368254273586\n",
            "p-value: 0.002923149374639118\n",
            "Reject the null hypothesis: There is a significant difference.\n"
          ]
        }
      ]
    },
    {
      "cell_type": "markdown",
      "source": [
        "##marker31"
      ],
      "metadata": {
        "id": "stY3FnH1iemf"
      }
    },
    {
      "cell_type": "code",
      "source": [
        "#marker31\n",
        "# ข้อมูลของ marker สำหรับกลุ่ม 1 และ กลุ่ม 2\n",
        "group1_marker = [0.1813611,0.051654454,0.13725123,0.19351715,0.19443554,0.24043342,-0.024553943,0.18154234,0.20493795,0.22765315,0.12642078,0.19451898]\n",
        "group2_marker = [0.10179886,-0.09073631,0.023413518,-0.0031696716,0.05041202,-0.09962593,-0.06992875,-0.06630465]\n",
        "\n",
        "# Independent t-test\n",
        "t_statistic, p_value = stats.ttest_ind(group1_marker, group2_marker)\n",
        "\n",
        "# พิมพ์ผลลัพธ์\n",
        "print(f\"t-statistic: {t_statistic}\")\n",
        "print(f\"p-value: {p_value}\")\n",
        "\n",
        "# ตัดสินใจ\n",
        "alpha = 0.05\n",
        "if p_value < alpha:\n",
        "    print(\"Reject the null hypothesis: There is a significant difference.\")\n",
        "else:\n",
        "    print(\"Fail to reject the null hypothesis: There is no significant difference.\")\n"
      ],
      "metadata": {
        "colab": {
          "base_uri": "https://localhost:8080/"
        },
        "id": "me0lq-JtkNxP",
        "outputId": "6081dd3c-4e45-45bf-abc0-149074265026"
      },
      "execution_count": null,
      "outputs": [
        {
          "output_type": "stream",
          "name": "stdout",
          "text": [
            "t-statistic: 5.169478562530042\n",
            "p-value: 6.44273665043114e-05\n",
            "Reject the null hypothesis: There is a significant difference.\n"
          ]
        }
      ]
    },
    {
      "cell_type": "markdown",
      "source": [
        "##marker32"
      ],
      "metadata": {
        "id": "ErOuWoUOigb6"
      }
    },
    {
      "cell_type": "code",
      "source": [
        "#marker32\n",
        "# ข้อมูลของ marker สำหรับกลุ่ม 1 และ กลุ่ม 2\n",
        "group1_marker = [0.124310285,-0.05206808,-0.05073664,0.0023496097,0.1389062,0.16481896,0.04624959,0.075282,0.17961447,0.22733782,0.10790395,0.08722614]\n",
        "group2_marker = [-0.0640619,-0.14601968,-0.15003058,-0.077780396,-0.18722442,-0.11786794,0.041509107,-0.08672734]\n",
        "\n",
        "# Independent t-test\n",
        "t_statistic, p_value = stats.ttest_ind(group1_marker, group2_marker)\n",
        "\n",
        "# พิมพ์ผลลัพธ์\n",
        "print(f\"t-statistic: {t_statistic}\")\n",
        "print(f\"p-value: {p_value}\")\n",
        "\n",
        "# ตัดสินใจ\n",
        "alpha = 0.05\n",
        "if p_value < alpha:\n",
        "    print(\"Reject the null hypothesis: There is a significant difference.\")\n",
        "else:\n",
        "    print(\"Fail to reject the null hypothesis: There is no significant difference.\")\n",
        "\n",
        "\n",
        "\n",
        "\n"
      ],
      "metadata": {
        "colab": {
          "base_uri": "https://localhost:8080/"
        },
        "id": "R9ZkUBsHkhTC",
        "outputId": "8d184768-3659-42bd-a6e1-e0014ba8f502"
      },
      "execution_count": null,
      "outputs": [
        {
          "output_type": "stream",
          "name": "stdout",
          "text": [
            "t-statistic: 4.981012293390731\n",
            "p-value: 9.67378408408249e-05\n",
            "Reject the null hypothesis: There is a significant difference.\n"
          ]
        }
      ]
    },
    {
      "cell_type": "markdown",
      "source": [
        "##marker33"
      ],
      "metadata": {
        "id": "9zH5w2KOih7L"
      }
    },
    {
      "cell_type": "code",
      "source": [
        "#marker33\n",
        "# ข้อมูลของ marker สำหรับกลุ่ม 1 และ กลุ่ม 2\n",
        "group1_marker = [0.11890717,0.06399082,0.18736723,0.12241166,0.16446435,0.23906311,0.18385646,0.18614952,0.21349777,0.32965213,0.19401881,0.14833294]\n",
        "group2_marker = [-0.030647185,0.048143342,-0.05207609,-0.04185023,0.0572862,0.07493453,0.12983981,0.05358717]\n",
        "\n",
        "# Independent t-test\n",
        "t_statistic, p_value = stats.ttest_ind(group1_marker, group2_marker)\n",
        "\n",
        "# พิมพ์ผลลัพธ์\n",
        "print(f\"t-statistic: {t_statistic}\")\n",
        "print(f\"p-value: {p_value}\")\n",
        "\n",
        "# ตัดสินใจ\n",
        "alpha = 0.05\n",
        "if p_value < alpha:\n",
        "    print(\"Reject the null hypothesis: There is a significant difference.\")\n",
        "else:\n",
        "    print(\"Fail to reject the null hypothesis: There is no significant difference.\")"
      ],
      "metadata": {
        "colab": {
          "base_uri": "https://localhost:8080/"
        },
        "id": "-z6LKkVjktUp",
        "outputId": "48e7d005-a86a-4fa3-d641-e991617c2ebd"
      },
      "execution_count": null,
      "outputs": [
        {
          "output_type": "stream",
          "name": "stdout",
          "text": [
            "t-statistic: 4.964644604745644\n",
            "p-value: 0.00010023039666131212\n",
            "Reject the null hypothesis: There is a significant difference.\n"
          ]
        }
      ]
    },
    {
      "cell_type": "markdown",
      "source": [
        "##marker34"
      ],
      "metadata": {
        "id": "Tz8yltWVijD7"
      }
    },
    {
      "cell_type": "code",
      "source": [
        "#marker34\n",
        "# ข้อมูลของ marker สำหรับกลุ่ม 1 และ กลุ่ม 2\n",
        "group1_marker = [0.13286176,0.07971229,0.13373482,0.05289639,0.0454524,0.0817747,0.05952619,0.12001246,0.06642882,-0.046684623,0.06683687,0.2000253]\n",
        "group2_marker = [-0.07827082,-0.13667393,-0.12632006,-0.057360537,0.0072893095,-0.2721105,-0.015247066,-0.074733675]\n",
        "\n",
        "# Independent t-test\n",
        "t_statistic, p_value = stats.ttest_ind(group1_marker, group2_marker)\n",
        "\n",
        "# พิมพ์ผลลัพธ์\n",
        "print(f\"t-statistic: {t_statistic}\")\n",
        "print(f\"p-value: {p_value}\")\n",
        "\n",
        "# ตัดสินใจ\n",
        "alpha = 0.05\n",
        "if p_value < alpha:\n",
        "    print(\"Reject the null hypothesis: There is a significant difference.\")\n",
        "else:\n",
        "    print(\"Fail to reject the null hypothesis: There is no significant difference.\")"
      ],
      "metadata": {
        "colab": {
          "base_uri": "https://localhost:8080/"
        },
        "id": "wN-ybVqLk_aq",
        "outputId": "6f967c85-67fa-4d7e-f062-31ae1ca6f642"
      },
      "execution_count": null,
      "outputs": [
        {
          "output_type": "stream",
          "name": "stdout",
          "text": [
            "t-statistic: 5.381052059724721\n",
            "p-value: 4.100560589289492e-05\n",
            "Reject the null hypothesis: There is a significant difference.\n"
          ]
        }
      ]
    },
    {
      "cell_type": "markdown",
      "source": [
        "##marker35"
      ],
      "metadata": {
        "id": "dlVxWAqYikEi"
      }
    },
    {
      "cell_type": "code",
      "source": [
        "#marker35\n",
        "# ข้อมูลของ marker สำหรับกลุ่ม 1 และ กลุ่ม 2\n",
        "group1_marker = [0.26170063,0.27658156,0.20578116,0.13892514,0.27991375,0.11482341,0.14690171,0.24812974,0.34798706,0.08357806,0.2436189,0.24721311]\n",
        "group2_marker = [-0.11181696,-0.049201712,0.021952922,-0.03121084,-0.06576854,-0.3136492,0.1483898,0.06952403]\n",
        "\n",
        "# Independent t-test\n",
        "t_statistic, p_value = stats.ttest_ind(group1_marker, group2_marker)\n",
        "\n",
        "# พิมพ์ผลลัพธ์\n",
        "print(f\"t-statistic: {t_statistic}\")\n",
        "print(f\"p-value: {p_value}\")\n",
        "\n",
        "# ตัดสินใจ\n",
        "alpha = 0.05\n",
        "if p_value < alpha:\n",
        "    print(\"Reject the null hypothesis: There is a significant difference.\")\n",
        "else:\n",
        "    print(\"Fail to reject the null hypothesis: There is no significant difference.\")"
      ],
      "metadata": {
        "colab": {
          "base_uri": "https://localhost:8080/"
        },
        "id": "PWTo52cUlSN-",
        "outputId": "305bfc8f-fe0c-4865-ba01-42d13b5fcdf4"
      },
      "execution_count": null,
      "outputs": [
        {
          "output_type": "stream",
          "name": "stdout",
          "text": [
            "t-statistic: 5.346259784966468\n",
            "p-value: 4.4153385910196e-05\n",
            "Reject the null hypothesis: There is a significant difference.\n"
          ]
        }
      ]
    },
    {
      "cell_type": "markdown",
      "source": [
        "##marker36"
      ],
      "metadata": {
        "id": "ObPnMVTQilTN"
      }
    },
    {
      "cell_type": "code",
      "source": [
        "#marker36\n",
        "# ข้อมูลของ marker สำหรับกลุ่ม 1 และ กลุ่ม 2\n",
        "group1_marker = [0.23998505,0.22390209,0.25561634,0.16650066,0.21471155,0.046330787,0.09720087,0.13488078,0.23563902,-0.019393168,0.19943,0.17778729]\n",
        "group2_marker = [-0.073976226,-0.07672036,0.0036493088,-0.051322356,-0.06548151,-0.23942122,0.10441337,0.048743807]\n",
        "\n",
        "# Independent t-test\n",
        "t_statistic, p_value = stats.ttest_ind(group1_marker, group2_marker)\n",
        "\n",
        "# พิมพ์ผลลัพธ์\n",
        "print(f\"t-statistic: {t_statistic}\")\n",
        "print(f\"p-value: {p_value}\")\n",
        "\n",
        "# ตัดสินใจ\n",
        "alpha = 0.05\n",
        "if p_value < alpha:\n",
        "    print(\"Reject the null hypothesis: There is a significant difference.\")\n",
        "else:\n",
        "    print(\"Fail to reject the null hypothesis: There is no significant difference.\")\n"
      ],
      "metadata": {
        "colab": {
          "base_uri": "https://localhost:8080/"
        },
        "id": "39GAv88eneea",
        "outputId": "3850b11c-7ac3-4674-e706-6618216453d5"
      },
      "execution_count": null,
      "outputs": [
        {
          "output_type": "stream",
          "name": "stdout",
          "text": [
            "t-statistic: 4.941950440702823\n",
            "p-value: 0.00010528694564433051\n",
            "Reject the null hypothesis: There is a significant difference.\n"
          ]
        }
      ]
    },
    {
      "cell_type": "markdown",
      "source": [
        "##marker37"
      ],
      "metadata": {
        "id": "XsaPMIlGnOC-"
      }
    },
    {
      "cell_type": "code",
      "source": [
        "#marker37\n",
        "# ข้อมูลของ marker สำหรับกลุ่ม 1 และ กลุ่ม 2\n",
        "group1_marker = [0.29450485,0.071275905,0.08672022,0.16545889,0.23007695,0.03755735,0.2962365,0.25032538,0.18718925,0.25100356,0.062179405,0.36453292\n",
        "]\n",
        "group2_marker = [-0.005429778,-0.09166494,0.0041526826,-0.001336557,-0.03458734,-0.017471796,0.022184461,-0.22408588]\n",
        "\n",
        "# Independent t-test\n",
        "t_statistic, p_value = stats.ttest_ind(group1_marker, group2_marker)\n",
        "\n",
        "# พิมพ์ผลลัพธ์\n",
        "print(f\"t-statistic: {t_statistic}\")\n",
        "print(f\"p-value: {p_value}\")\n",
        "\n",
        "# ตัดสินใจ\n",
        "alpha = 0.05\n",
        "if p_value < alpha:\n",
        "    print(\"Reject the null hypothesis: There is a significant difference.\")\n",
        "else:\n",
        "    print(\"Fail to reject the null hypothesis: There is no significant difference.\")"
      ],
      "metadata": {
        "colab": {
          "base_uri": "https://localhost:8080/"
        },
        "id": "zEOuUHGgnt1c",
        "outputId": "4765bbb7-973e-4462-e527-fceb9a1fa91d"
      },
      "execution_count": null,
      "outputs": [
        {
          "output_type": "stream",
          "name": "stdout",
          "text": [
            "t-statistic: 5.264946104183803\n",
            "p-value: 5.251260468622758e-05\n",
            "Reject the null hypothesis: There is a significant difference.\n"
          ]
        }
      ]
    },
    {
      "cell_type": "markdown",
      "source": [
        "##marker38"
      ],
      "metadata": {
        "id": "eVZPkLKvnPFW"
      }
    },
    {
      "cell_type": "code",
      "source": [
        "#marker38\n",
        "# ข้อมูลของ marker สำหรับกลุ่ม 1 และ กลุ่ม 2\n",
        "group1_marker = [0.3704865,0.11621879,0.0706054,0.19190499,0.21402939,0.06552462,0.2652474,0.16520083,0.10624216,0.22074726,0.006472536,0.21944763]\n",
        "group2_marker = [-0.016727293,-0.08919239,-0.030697271,0.0060132835,-0.019231854,-0.07922143,0.014396044,-0.18298435]\n",
        "\n",
        "# Independent t-test\n",
        "t_statistic, p_value = stats.ttest_ind(group1_marker, group2_marker)\n",
        "\n",
        "# พิมพ์ผลลัพธ์\n",
        "print(f\"t-statistic: {t_statistic}\")\n",
        "print(f\"p-value: {p_value}\")\n",
        "\n",
        "# ตัดสินใจ\n",
        "alpha = 0.05\n",
        "if p_value < alpha:\n",
        "    print(\"Reject the null hypothesis: There is a significant difference.\")\n",
        "else:\n",
        "    print(\"Fail to reject the null hypothesis: There is no significant difference.\")"
      ],
      "metadata": {
        "colab": {
          "base_uri": "https://localhost:8080/"
        },
        "id": "lyG9T2QoplKq",
        "outputId": "9edfff35-c1d4-40cc-8d16-352a30f7d79b"
      },
      "execution_count": null,
      "outputs": [
        {
          "output_type": "stream",
          "name": "stdout",
          "text": [
            "t-statistic: 5.3822317060022815\n",
            "p-value: 4.090300447468303e-05\n",
            "Reject the null hypothesis: There is a significant difference.\n"
          ]
        }
      ]
    },
    {
      "cell_type": "markdown",
      "source": [
        "##marker39"
      ],
      "metadata": {
        "id": "6-QNeoCSnSVB"
      }
    },
    {
      "cell_type": "code",
      "source": [
        "#marker39\n",
        "# ข้อมูลของ marker สำหรับกลุ่ม 1 และ กลุ่ม 2\n",
        "group1_marker = [0.27646747,0.085846916,0.062415384,0.13902146,0.20316063,0.008922122,0.24999866,0.20426176,0.11285363,0.26009852,-0.0103663895,0.23173296]\n",
        "group2_marker = [-0.070881054,-0.1434686,-0.031543605,-0.03191607,-0.01859284,-0.104349114,0.044273533,-0.09398791]\n",
        "\n",
        "# Independent t-test\n",
        "t_statistic, p_value = stats.ttest_ind(group1_marker, group2_marker)\n",
        "\n",
        "# พิมพ์ผลลัพธ์\n",
        "print(f\"t-statistic: {t_statistic}\")\n",
        "print(f\"p-value: {p_value}\")\n",
        "\n",
        "# ตัดสินใจ\n",
        "alpha = 0.05\n",
        "if p_value < alpha:\n",
        "    print(\"Reject the null hypothesis: There is a significant difference.\")\n",
        "else:\n",
        "    print(\"Fail to reject the null hypothesis: There is no significant difference.\")"
      ],
      "metadata": {
        "colab": {
          "base_uri": "https://localhost:8080/"
        },
        "id": "YllZ7BZAp6ps",
        "outputId": "f7e2add3-1c54-46cf-ea19-06d128919243"
      },
      "execution_count": null,
      "outputs": [
        {
          "output_type": "stream",
          "name": "stdout",
          "text": [
            "t-statistic: 5.2960971268294985\n",
            "p-value: 4.913363681941688e-05\n",
            "Reject the null hypothesis: There is a significant difference.\n"
          ]
        }
      ]
    },
    {
      "cell_type": "markdown",
      "source": [
        "##marker40"
      ],
      "metadata": {
        "id": "Jc7C-ezrnTKM"
      }
    },
    {
      "cell_type": "code",
      "source": [
        "#marker40\n",
        "# ข้อมูลของ marker สำหรับกลุ่ม 1 และ กลุ่ม 2\n",
        "group1_marker = [0.41798463,0.24641871,0.29129252,0.27456394,0.3278035,0.27294356,0.44663182,0.5226502,0.26541916,0.40748885,0.26461443,0.43080598]\n",
        "group2_marker = [0.14205058,0.26778337,0.17040028,0.07991891,0.18434101,0.16332214,0.18834569,0.043462776]\n",
        "\n",
        "# Independent t-test\n",
        "t_statistic, p_value = stats.ttest_ind(group1_marker, group2_marker)\n",
        "\n",
        "# พิมพ์ผลลัพธ์\n",
        "print(f\"t-statistic: {t_statistic}\")\n",
        "print(f\"p-value: {p_value}\")\n",
        "\n",
        "# ตัดสินใจ\n",
        "alpha = 0.05\n",
        "if p_value < alpha:\n",
        "    print(\"Reject the null hypothesis: There is a significant difference.\")\n",
        "else:\n",
        "    print(\"Fail to reject the null hypothesis: There is no significant difference.\")"
      ],
      "metadata": {
        "colab": {
          "base_uri": "https://localhost:8080/"
        },
        "id": "SPqezD0CqLHn",
        "outputId": "4edc5a27-84a5-42db-cda2-058f58da7817"
      },
      "execution_count": null,
      "outputs": [
        {
          "output_type": "stream",
          "name": "stdout",
          "text": [
            "t-statistic: 5.009193441645746\n",
            "p-value: 9.101279790937026e-05\n",
            "Reject the null hypothesis: There is a significant difference.\n"
          ]
        }
      ]
    },
    {
      "cell_type": "markdown",
      "source": [
        "##marker41"
      ],
      "metadata": {
        "id": "2VrfmOQ7nUFS"
      }
    },
    {
      "cell_type": "code",
      "source": [
        "#marker41\n",
        "# ข้อมูลของ marker สำหรับกลุ่ม 1 และ กลุ่ม 2\n",
        "group1_marker = [0.14937885,-0.0048829424,-0.12232843,0.030238945,0.07607952,5.34E-04,0.0798081,0.26665044,-0.12922108,0.11590231,0.08572811,0.022159895]\n",
        "group2_marker = [-0.06341852,-0.23539482,-0.16247058,-0.16708978,-0.17473009,-0.25122896,-0.08091093,-0.23048554]\n",
        "\n",
        "# Independent t-test\n",
        "t_statistic, p_value = stats.ttest_ind(group1_marker, group2_marker)\n",
        "\n",
        "# พิมพ์ผลลัพธ์\n",
        "print(f\"t-statistic: {t_statistic}\")\n",
        "print(f\"p-value: {p_value}\")\n",
        "\n",
        "# ตัดสินใจ\n",
        "alpha = 0.05\n",
        "if p_value < alpha:\n",
        "    print(\"Reject the null hypothesis: There is a significant difference.\")\n",
        "else:\n",
        "    print(\"Fail to reject the null hypothesis: There is no significant difference.\")"
      ],
      "metadata": {
        "colab": {
          "base_uri": "https://localhost:8080/"
        },
        "id": "nERHE_bQrC3F",
        "outputId": "b6509caa-7cfd-4725-85b9-5ff6248be6eb"
      },
      "execution_count": null,
      "outputs": [
        {
          "output_type": "stream",
          "name": "stdout",
          "text": [
            "t-statistic: 4.974266709136878\n",
            "p-value: 9.816192543646377e-05\n",
            "Reject the null hypothesis: There is a significant difference.\n"
          ]
        }
      ]
    },
    {
      "cell_type": "markdown",
      "source": [
        "##marker42"
      ],
      "metadata": {
        "id": "RLXiCjtcnVBz"
      }
    },
    {
      "cell_type": "code",
      "source": [
        "#marker17\n",
        "# ข้อมูลของ marker สำหรับกลุ่ม 1 และ กลุ่ม 2\n",
        "group1_marker = [0.103906065,0.003642245,-0.05205266,0.12769957,0.14536755,0.20649001,0.16701499,0.06582616,0.024835473,0.07233325,0.018827386,0.056882262]\n",
        "group2_marker = [-0.0871389,-0.021706514,-0.081826575,0.010802814,-0.058228437,-0.18326761,-0.20451169,-0.11008011]\n",
        "\n",
        "# Independent t-test\n",
        "t_statistic, p_value = stats.ttest_ind(group1_marker, group2_marker)\n",
        "\n",
        "# พิมพ์ผลลัพธ์\n",
        "print(f\"t-statistic: {t_statistic}\")\n",
        "print(f\"p-value: {p_value}\")\n",
        "\n",
        "# ตัดสินใจ\n",
        "alpha = 0.05\n",
        "if p_value < alpha:\n",
        "    print(\"Reject the null hypothesis: There is a significant difference.\")\n",
        "else:\n",
        "    print(\"Fail to reject the null hypothesis: There is no significant difference.\")"
      ],
      "metadata": {
        "colab": {
          "base_uri": "https://localhost:8080/"
        },
        "id": "PtGp5O2Frfql",
        "outputId": "95916f6a-1af9-46b3-f58e-311171261241"
      },
      "execution_count": null,
      "outputs": [
        {
          "output_type": "stream",
          "name": "stdout",
          "text": [
            "t-statistic: 5.018520180705115\n",
            "p-value: 8.919521201371885e-05\n",
            "Reject the null hypothesis: There is a significant difference.\n"
          ]
        }
      ]
    },
    {
      "cell_type": "markdown",
      "source": [
        "##marker43"
      ],
      "metadata": {
        "id": "zrdTrUmJnV_q"
      }
    },
    {
      "cell_type": "code",
      "source": [
        "#marker43\n",
        "# ข้อมูลของ marker สำหรับกลุ่ม 1 และ กลุ่ม 2\n",
        "group1_marker = [0.1522005,0.02337844,0.0266399,0.08468859,0.06702682,0.099458486,0.18774186,0.10115626,0.12692039,0.16118962,0.14544243,0.1423656]\n",
        "group2_marker = [-0.027491935,0.041756716,0.02681363,-0.052386746,-0.03114359,0.032561883,-0.08613895,0.019236054]\n",
        "\n",
        "# Independent t-test\n",
        "t_statistic, p_value = stats.ttest_ind(group1_marker, group2_marker)\n",
        "\n",
        "# พิมพ์ผลลัพธ์\n",
        "print(f\"t-statistic: {t_statistic}\")\n",
        "print(f\"p-value: {p_value}\")\n",
        "\n",
        "# ตัดสินใจ\n",
        "alpha = 0.05\n",
        "if p_value < alpha:\n",
        "    print(\"Reject the null hypothesis: There is a significant difference.\")\n",
        "else:\n",
        "    print(\"Fail to reject the null hypothesis: There is no significant difference.\")\n"
      ],
      "metadata": {
        "colab": {
          "base_uri": "https://localhost:8080/"
        },
        "id": "hviv_Em0r6JP",
        "outputId": "9ec04131-0374-4c6b-bee5-216d0879cdc7"
      },
      "execution_count": null,
      "outputs": [
        {
          "output_type": "stream",
          "name": "stdout",
          "text": [
            "t-statistic: 5.221891853400598\n",
            "p-value: 5.7578617342042215e-05\n",
            "Reject the null hypothesis: There is a significant difference.\n"
          ]
        }
      ]
    },
    {
      "cell_type": "markdown",
      "source": [
        "##marker44"
      ],
      "metadata": {
        "id": "x6058bnjnXLQ"
      }
    },
    {
      "cell_type": "code",
      "source": [
        "#marker44\n",
        "# ข้อมูลของ marker สำหรับกลุ่ม 1 และ กลุ่ม 2\n",
        "group1_marker = [0.20286426,0.104939766,0.13240016,0.18291779,0.29108804,0.11514044,0.1790594,0.14991392,0.20125525,0.21061632,0.18347338,0.07538044]\n",
        "group2_marker = [-0.024954056,0.13754815,0.061886955,-0.12622458,0.06476687,-0.09265184,-0.10410779,0.07000702]\n",
        "\n",
        "# Independent t-test\n",
        "t_statistic, p_value = stats.ttest_ind(group1_marker, group2_marker)\n",
        "\n",
        "# พิมพ์ผลลัพธ์\n",
        "print(f\"t-statistic: {t_statistic}\")\n",
        "print(f\"p-value: {p_value}\")\n",
        "\n",
        "# ตัดสินใจ\n",
        "alpha = 0.05\n",
        "if p_value < alpha:\n",
        "    print(\"Reject the null hypothesis: There is a significant difference.\")\n",
        "else:\n",
        "    print(\"Fail to reject the null hypothesis: There is no significant difference.\")\n"
      ],
      "metadata": {
        "colab": {
          "base_uri": "https://localhost:8080/"
        },
        "id": "211YtW9SsnYp",
        "outputId": "ae15c166-938c-4992-a5a9-1410aebe602e"
      },
      "execution_count": null,
      "outputs": [
        {
          "output_type": "stream",
          "name": "stdout",
          "text": [
            "t-statistic: 4.908903544910465\n",
            "p-value: 0.00011311971412762303\n",
            "Reject the null hypothesis: There is a significant difference.\n"
          ]
        }
      ]
    },
    {
      "cell_type": "markdown",
      "source": [
        "##marker45"
      ],
      "metadata": {
        "id": "eH2JLJmLnX_y"
      }
    },
    {
      "cell_type": "code",
      "source": [
        "#marker45\n",
        "# ข้อมูลของ marker สำหรับกลุ่ม 1 และ กลุ่ม 2\n",
        "group1_marker = [0.2966317,0.12732084,0.08998669,0.114344634,0.13758472,0.095355675,0.28365266,0.12116422,0.11720613,0.11794605,0.12801982,0.18469001]\n",
        "group2_marker = [0.049221125,0.01777271,-0.04476168,0.034632906,-0.009264791,-0.013666006,-0.071112506,0.07594667]\n",
        "\n",
        "# Independent t-test\n",
        "t_statistic, p_value = stats.ttest_ind(group1_marker, group2_marker)\n",
        "\n",
        "# พิมพ์ผลลัพธ์\n",
        "print(f\"t-statistic: {t_statistic}\")\n",
        "print(f\"p-value: {p_value}\")\n",
        "\n",
        "# ตัดสินใจ\n",
        "alpha = 0.05\n",
        "if p_value < alpha:\n",
        "    print(\"Reject the null hypothesis: There is a significant difference.\")\n",
        "else:\n",
        "    print(\"Fail to reject the null hypothesis: There is no significant difference.\")"
      ],
      "metadata": {
        "colab": {
          "base_uri": "https://localhost:8080/"
        },
        "id": "XPP5XRSQs3A8",
        "outputId": "93d6582c-966f-459e-900c-79c89b6a7df1"
      },
      "execution_count": null,
      "outputs": [
        {
          "output_type": "stream",
          "name": "stdout",
          "text": [
            "t-statistic: 5.164443723553035\n",
            "p-value: 6.512768946306554e-05\n",
            "Reject the null hypothesis: There is a significant difference.\n"
          ]
        }
      ]
    },
    {
      "cell_type": "markdown",
      "source": [
        "##marker46"
      ],
      "metadata": {
        "id": "BGLymL3YueVq"
      }
    },
    {
      "cell_type": "code",
      "source": [
        "#marker46\n",
        "# ข้อมูลของ marker สำหรับกลุ่ม 1 และ กลุ่ม 2\n",
        "group1_marker = [0.34797895,0.1562836,0.2212102,0.19487125,0.19284871,0.2288642,0.31428614,0.19328296,0.2355901,0.23336098,0.18214162,0.28597498]\n",
        "group2_marker = [0.13029024,0.065120205,-0.053092033,0.15747544,0.12891546,-0.025262963,0.07153229,0.15775879]\n",
        "\n",
        "# Independent t-test\n",
        "t_statistic, p_value = stats.ttest_ind(group1_marker, group2_marker)\n",
        "\n",
        "# พิมพ์ผลลัพธ์\n",
        "print(f\"t-statistic: {t_statistic}\")\n",
        "print(f\"p-value: {p_value}\")\n",
        "\n",
        "# ตัดสินใจ\n",
        "alpha = 0.05\n",
        "if p_value < alpha:\n",
        "    print(\"Reject the null hypothesis: There is a significant difference.\")\n",
        "else:\n",
        "    print(\"Fail to reject the null hypothesis: There is no significant difference.\")\n"
      ],
      "metadata": {
        "colab": {
          "base_uri": "https://localhost:8080/"
        },
        "id": "2WH8F5nPvlJb",
        "outputId": "db3f82ff-ef43-4823-c8ab-a8cc75802a6e"
      },
      "execution_count": null,
      "outputs": [
        {
          "output_type": "stream",
          "name": "stdout",
          "text": [
            "t-statistic: 4.972024106405081\n",
            "p-value: 9.864009328829718e-05\n",
            "Reject the null hypothesis: There is a significant difference.\n"
          ]
        }
      ]
    },
    {
      "cell_type": "markdown",
      "source": [
        "##marker47"
      ],
      "metadata": {
        "id": "53ju4Rqyufhf"
      }
    },
    {
      "cell_type": "code",
      "source": [
        "#marker47\n",
        "# ข้อมูลของ marker สำหรับกลุ่ม 1 และ กลุ่ม 2\n",
        "group1_marker = [0.1656223,-0.009942351,0.0063725556,0.031368036,-0.0045858673,0.100804046,0.15526663,0.10976615,0.07525066,0.14800423,0.017106,0.05417184]\n",
        "group2_marker = [-0.0141690215,-0.12864235,-0.20713657,-0.022981988,-0.0098168785,-0.17636277,-0.18541431,-0.025629746]\n",
        "\n",
        "# Independent t-test\n",
        "t_statistic, p_value = stats.ttest_ind(group1_marker, group2_marker)\n",
        "\n",
        "# พิมพ์ผลลัพธ์\n",
        "print(f\"t-statistic: {t_statistic}\")\n",
        "print(f\"p-value: {p_value}\")\n",
        "\n",
        "# ตัดสินใจ\n",
        "alpha = 0.05\n",
        "if p_value < alpha:\n",
        "    print(\"Reject the null hypothesis: There is a significant difference.\")\n",
        "else:\n",
        "    print(\"Fail to reject the null hypothesis: There is no significant difference.\")\n"
      ],
      "metadata": {
        "colab": {
          "base_uri": "https://localhost:8080/"
        },
        "id": "MY8O7VnUXh73",
        "outputId": "a07fcb82-ab76-44e8-c291-96d8f3e0501f"
      },
      "execution_count": null,
      "outputs": [
        {
          "output_type": "stream",
          "name": "stdout",
          "text": [
            "t-statistic: 4.963001173362722\n",
            "p-value: 0.00010058810846760238\n",
            "Reject the null hypothesis: There is a significant difference.\n"
          ]
        }
      ]
    },
    {
      "cell_type": "markdown",
      "source": [
        "##marker48"
      ],
      "metadata": {
        "id": "m36vlPVwux3o"
      }
    },
    {
      "cell_type": "code",
      "source": [
        "#marker48\n",
        "# ข้อมูลของ marker สำหรับกลุ่ม 1 และ กลุ่ม 2\n",
        "group1_marker = [0.04399506,0.02664466,-0.009284257,-0.10780214,-0.0026726862,0.027599458,0.054087095,-0.063832656,0.0964789,-0.025661243,-0.025716998,0.0326126]\n",
        "group2_marker = [-0.12269841,-0.1344479,-0.11542089,-0.04984091,-0.09751576,-0.11254053,-0.12421852,-0.0810039]\n",
        "\n",
        "# Independent t-test\n",
        "t_statistic, p_value = stats.ttest_ind(group1_marker, group2_marker)\n",
        "\n",
        "# พิมพ์ผลลัพธ์\n",
        "print(f\"t-statistic: {t_statistic}\")\n",
        "print(f\"p-value: {p_value}\")\n",
        "\n",
        "# ตัดสินใจ\n",
        "alpha = 0.05\n",
        "if p_value < alpha:\n",
        "    print(\"Reject the null hypothesis: There is a significant difference.\")\n",
        "else:\n",
        "    print(\"Fail to reject the null hypothesis: There is no significant difference.\")\n"
      ],
      "metadata": {
        "colab": {
          "base_uri": "https://localhost:8080/"
        },
        "id": "dkts9gLNXkE8",
        "outputId": "8b47eb73-897c-49c0-ba01-b98349b5feb3"
      },
      "execution_count": null,
      "outputs": [
        {
          "output_type": "stream",
          "name": "stdout",
          "text": [
            "t-statistic: 5.109217586320499\n",
            "p-value: 7.334033869279237e-05\n",
            "Reject the null hypothesis: There is a significant difference.\n"
          ]
        }
      ]
    },
    {
      "cell_type": "markdown",
      "source": [
        "##marker49"
      ],
      "metadata": {
        "id": "JREKVoYquysE"
      }
    },
    {
      "cell_type": "code",
      "source": [
        "#marker49\n",
        "# ข้อมูลของ marker สำหรับกลุ่ม 1 และ กลุ่ม 2\n",
        "group1_marker = [0.09414151,0.13652676,0.106032945,0.09461703,0.16141382,0.17439671,0.31455922,0.31480375,0.14051712,0.22578697,0.12786983,0.14298986]\n",
        "group2_marker = [-0.102387354,-0.034118745,0.06777463,0.018704083,0.008516751,-0.047604688,-0.008364186,0.06330953]\n",
        "\n",
        "# Independent t-test\n",
        "t_statistic, p_value = stats.ttest_ind(group1_marker, group2_marker)\n",
        "\n",
        "# พิมพ์ผลลัพธ์\n",
        "print(f\"t-statistic: {t_statistic}\")\n",
        "print(f\"p-value: {p_value}\")\n",
        "\n",
        "# ตัดสินใจ\n",
        "alpha = 0.05\n",
        "if p_value < alpha:\n",
        "    print(\"Reject the null hypothesis: There is a significant difference.\")\n",
        "else:\n",
        "    print(\"Fail to reject the null hypothesis: There is no significant difference.\")\n"
      ],
      "metadata": {
        "colab": {
          "base_uri": "https://localhost:8080/"
        },
        "id": "VB5pTQTQXliv",
        "outputId": "3589d2a3-fe13-4d92-8bc3-4b37ce7208aa"
      },
      "execution_count": null,
      "outputs": [
        {
          "output_type": "stream",
          "name": "stdout",
          "text": [
            "t-statistic: 5.44553606855249\n",
            "p-value: 3.5765900673748935e-05\n",
            "Reject the null hypothesis: There is a significant difference.\n"
          ]
        }
      ]
    },
    {
      "cell_type": "markdown",
      "source": [
        "##marker50"
      ],
      "metadata": {
        "id": "v0tl0htBvbsG"
      }
    },
    {
      "cell_type": "code",
      "source": [
        "#marker50\n",
        "# ข้อมูลของ marker สำหรับกลุ่ม 1 และ กลุ่ม 2\n",
        "group1_marker = [0.11358154,0.15820965,0.03174097,0.023324464,0.0934095,0.100686535,0.22144164,0.09071201,0.1409559,0.12793596,0.06139533,0.051768392]\n",
        "group2_marker = [-0.12819903,-0.105145186,-0.094596334,-0.014817486,0.01475631,-0.15137003,-0.0488976,0.10366625]\n",
        "\n",
        "# Independent t-test\n",
        "t_statistic, p_value = stats.ttest_ind(group1_marker, group2_marker)\n",
        "\n",
        "# พิมพ์ผลลัพธ์\n",
        "print(f\"t-statistic: {t_statistic}\")\n",
        "print(f\"p-value: {p_value}\")\n",
        "\n",
        "# ตัดสินใจ\n",
        "alpha = 0.05\n",
        "if p_value < alpha:\n",
        "    print(\"Reject the null hypothesis: There is a significant difference.\")\n",
        "else:\n",
        "    print(\"Fail to reject the null hypothesis: There is no significant difference.\")\n"
      ],
      "metadata": {
        "colab": {
          "base_uri": "https://localhost:8080/"
        },
        "id": "4aUO81I5Xm8e",
        "outputId": "db6efbb5-448a-4cf2-9962-94f49c84aa88"
      },
      "execution_count": null,
      "outputs": [
        {
          "output_type": "stream",
          "name": "stdout",
          "text": [
            "t-statistic: 4.902358004331441\n",
            "p-value: 0.00011474032987194217\n",
            "Reject the null hypothesis: There is a significant difference.\n"
          ]
        }
      ]
    }
  ]
}