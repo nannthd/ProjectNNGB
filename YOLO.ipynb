{
  "nbformat": 4,
  "nbformat_minor": 0,
  "metadata": {
    "colab": {
      "provenance": [],
      "authorship_tag": "ABX9TyN1NYKjsTIPPzpnFf+/VKZx",
      "include_colab_link": true
    },
    "kernelspec": {
      "name": "python3",
      "display_name": "Python 3"
    },
    "language_info": {
      "name": "python"
    },
    "accelerator": "GPU",
    "gpuClass": "standard"
  },
  "cells": [
    {
      "cell_type": "markdown",
      "metadata": {
        "id": "view-in-github",
        "colab_type": "text"
      },
      "source": [
        "<a href=\"https://colab.research.google.com/github/nannthd/ProjectNNGB/blob/main/YOLO.ipynb\" target=\"_parent\"><img src=\"https://colab.research.google.com/assets/colab-badge.svg\" alt=\"Open In Colab\"/></a>"
      ]
    },
    {
      "cell_type": "code",
      "source": [
        "!pip install yolov5"
      ],
      "metadata": {
        "id": "2hZ6e6nwuKLJ"
      },
      "execution_count": null,
      "outputs": []
    },
    {
      "cell_type": "code",
      "source": [
        "!pip install -U torch torchvision\n",
        "!pip install cython\n",
        "!pip install -U 'git+https://github.com/cocodataset/cocoapi.git#subdirectory=PythonAPI'\n",
        "!pip install -U 'git+https://github.com/ultralytics/yolov5.git'"
      ],
      "metadata": {
        "id": "3cPhzC2m0ipf"
      },
      "execution_count": null,
      "outputs": []
    },
    {
      "cell_type": "code",
      "source": [
        "!pip install ultralytics "
      ],
      "metadata": {
        "id": "0OCRZXAc14Dp"
      },
      "execution_count": null,
      "outputs": []
    },
    {
      "cell_type": "markdown",
      "source": [
        "#Train"
      ],
      "metadata": {
        "id": "N2h8WHcNxDUJ"
      }
    },
    {
      "cell_type": "code",
      "source": [
        "from ultralytics import YOLO\n",
        "\n",
        "# Load a model\n",
        "model = YOLO('yolov8n.yaml')  # build a new model from YAML\n",
        "model = YOLO('yolov8n.pt')  # load a pretrained model (recommended for training)\n",
        "model = YOLO('yolov8n.yaml').load('yolov8n.pt')  # build from YAML and transfer weights\n",
        "\n",
        "# Train the model\n",
        "model.train(data='coco128.yaml', epochs=100, imgsz=640)"
      ],
      "metadata": {
        "id": "eSNgeH_L3pwv"
      },
      "execution_count": null,
      "outputs": []
    },
    {
      "cell_type": "markdown",
      "source": [
        "#Val"
      ],
      "metadata": {
        "id": "F9Fu7zosxGRV"
      }
    },
    {
      "cell_type": "code",
      "source": [
        "# Load a model\n",
        "model = YOLO('yolov8n.pt')  # load an official model\n",
        "model = YOLO('path/to/best.pt')  # load a custom model\n",
        "\n",
        "# Validate the model\n",
        "metrics = model.val()  # no arguments needed, dataset and settings remembered\n",
        "metrics.box.map    # map50-95\n",
        "metrics.box.map50  # map50\n",
        "metrics.box.map75  # map75\n",
        "metrics.box.maps   # a list contains map50-95 of each category"
      ],
      "metadata": {
        "id": "wrB7mYj3xJpa"
      },
      "execution_count": null,
      "outputs": []
    },
    {
      "cell_type": "markdown",
      "source": [
        "#Predict"
      ],
      "metadata": {
        "id": "uZhr8hJcxPn2"
      }
    },
    {
      "cell_type": "code",
      "source": [
        "inputs = [img, img]  # list of numpy arrays\n",
        "results = model(inputs)  # list of Results objects\n",
        "\n",
        "for result in results:\n",
        "    boxes = result.boxes  # Boxes object for bbox outputs\n",
        "    masks = result.masks  # Masks object for segmentation masks outputs\n",
        "    probs = result.probs  # Class probabilities for classification outputs"
      ],
      "metadata": {
        "id": "1ICsUCRVxRDF"
      },
      "execution_count": null,
      "outputs": []
    },
    {
      "cell_type": "markdown",
      "source": [
        "#Export"
      ],
      "metadata": {
        "id": "N4eTisOzxWpU"
      }
    },
    {
      "cell_type": "code",
      "source": [
        "# Load a model\n",
        "model = YOLO('yolov8n.pt')  # load an official model\n",
        "model = YOLO('path/to/best.pt')  # load a custom trained\n",
        "\n",
        "# Export the model\n",
        "model.export(format='onnx')"
      ],
      "metadata": {
        "id": "R7688tqhxU_l"
      },
      "execution_count": null,
      "outputs": []
    },
    {
      "cell_type": "markdown",
      "source": [
        "#Track"
      ],
      "metadata": {
        "id": "oz9-gqIgxgfV"
      }
    },
    {
      "cell_type": "code",
      "source": [
        "# Load a model\n",
        "model = YOLO('yolov8n.pt')  # load an official detection model\n",
        "model = YOLO('yolov8n-seg.pt')  # load an official segmentation model\n",
        "model = YOLO('path/to/best.pt')  # load a custom model\n",
        "\n",
        "# Track with the model\n",
        "results = model.track(source=\"https://youtu.be/Zgi9g1ksQHc\", show=True) \n",
        "results = model.track(source=\"https://youtu.be/Zgi9g1ksQHc\", show=True, tracker=\"bytetrack.yaml\") "
      ],
      "metadata": {
        "id": "TkFNm6WuxhaX"
      },
      "execution_count": null,
      "outputs": []
    },
    {
      "cell_type": "markdown",
      "source": [
        "#Benchmark"
      ],
      "metadata": {
        "id": "CewaQidlxkEy"
      }
    },
    {
      "cell_type": "code",
      "source": [
        "from ultralytics.yolo.utils.benchmarks import benchmark\n",
        "\n",
        "# Benchmark on GPU\n",
        "benchmark(model='yolov8n.pt', imgsz=640, half=False, device=0)"
      ],
      "metadata": {
        "id": "lA77rIy-xnRt"
      },
      "execution_count": null,
      "outputs": []
    }
  ]
}