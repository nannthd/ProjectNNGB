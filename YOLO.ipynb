{
  "nbformat": 4,
  "nbformat_minor": 0,
  "metadata": {
    "colab": {
      "provenance": [],
      "authorship_tag": "ABX9TyOK7PYJqDYzN/uYqR6SUZ8u",
      "include_colab_link": true
    },
    "kernelspec": {
      "name": "python3",
      "display_name": "Python 3"
    },
    "language_info": {
      "name": "python"
    }
  },
  "cells": [
    {
      "cell_type": "markdown",
      "metadata": {
        "id": "view-in-github",
        "colab_type": "text"
      },
      "source": [
        "<a href=\"https://colab.research.google.com/github/nannthd/ProjectNNGB/blob/main/YOLO.ipynb\" target=\"_parent\"><img src=\"https://colab.research.google.com/assets/colab-badge.svg\" alt=\"Open In Colab\"/></a>"
      ]
    },
    {
      "cell_type": "markdown",
      "source": [
        "#ติดตั้ง YOLOv5"
      ],
      "metadata": {
        "id": "VMYggFM4pzgE"
      }
    },
    {
      "cell_type": "code",
      "execution_count": null,
      "metadata": {
        "id": "wDco46hvpuzs"
      },
      "outputs": [],
      "source": [
        "## Clone repository\n",
        "$ git clone https://github.com/ultralytics/yolov5\n",
        "## Change directory to yolov5\n",
        "$ cd yolov5\n",
        "## install required library\n",
        "$ pip install -r requirements.txt  # install"
      ]
    },
    {
      "cell_type": "markdown",
      "source": [
        "#สร้างไฟล์ Configuration\n",
        "- Path หลักที่เราเก็บข้อมูลอยู่ที่ไหน\n",
        "- Train images อยู่ path ไหน\n",
        "- Validate images อยู่ path ไหน\n",
        "- Test images อยู่ path ไหน (optional)\n",
        "- จำนวน Class\n",
        "- ชื่อแต่ละ Class"
      ],
      "metadata": {
        "id": "sY9Qdfbqp3re"
      }
    },
    {
      "cell_type": "code",
      "source": [
        "path: /path/to/datasets\n",
        "train: images/train  # train images (relative to 'path')\n",
        "val: images/validation # val images (relative to 'path')\n",
        "\n",
        "# Classes\n",
        "nc: 3 # number of classes\n",
        "names: [ 'mk', 'sizzler', 'starbucks' ]"
      ],
      "metadata": {
        "id": "hhK-V5ZdqDlp"
      },
      "execution_count": null,
      "outputs": []
    },
    {
      "cell_type": "markdown",
      "source": [
        "#Label รูปภาพ"
      ],
      "metadata": {
        "id": "eFNWENWeqay-"
      }
    },
    {
      "cell_type": "markdown",
      "source": [
        "#เตรียม Directory"
      ],
      "metadata": {
        "id": "07NjWEonqcwX"
      }
    },
    {
      "cell_type": "code",
      "source": [
        "/path/to/datasets\n",
        "|\n",
        "|- images\n",
        "     |\n",
        "     |- train\n",
        "          |- image_01.jpg\n",
        "          |- image_02.jpg\n",
        "     |- validation\n",
        "          |- images_03.jpg\n",
        "|- labels\n",
        "     |\n",
        "     |- train\n",
        "          |- image_01.txt\n",
        "          |- image_02.txt\n",
        "     |- validation\n",
        "          |- images_03.txt"
      ],
      "metadata": {
        "id": "xg9XJyKwqhw7"
      },
      "execution_count": null,
      "outputs": []
    },
    {
      "cell_type": "markdown",
      "source": [
        "#เลือกโมเดลที่จะ Train"
      ],
      "metadata": {
        "id": "AP68KeMNqrNI"
      }
    },
    {
      "cell_type": "code",
      "source": [],
      "metadata": {
        "id": "QTIqz2CGqtyn"
      },
      "execution_count": null,
      "outputs": []
    },
    {
      "cell_type": "markdown",
      "source": [
        "#Train model\n",
        "- จะใช้รูปขนาดเท่าไหร่ (เช่น 640)\n",
        "- ขนาด batch size (เช่น 16)\n",
        "- จำนวน epoch ที่รัน (เช่น 10)\n",
        "- ตำแหน่ง Configuration file (ในข้อ 2 ที่เราสร้างไว้)\n",
        "- Pretrain model (เช่น yolov5s.pt)"
      ],
      "metadata": {
        "id": "1AInQ5J_qt_G"
      }
    },
    {
      "cell_type": "code",
      "source": [
        "# Train YOLOv5s\n",
        "$ python train.py --img 640 --batch 16 --epochs 10 --data path_config.yaml --weights yolov5s.pt"
      ],
      "metadata": {
        "id": "iCYMrmsXq4pq"
      },
      "execution_count": null,
      "outputs": []
    }
  ]
}