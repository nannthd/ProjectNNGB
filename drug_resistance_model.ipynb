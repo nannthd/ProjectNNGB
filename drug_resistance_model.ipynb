{
  "nbformat": 4,
  "nbformat_minor": 0,
  "metadata": {
    "colab": {
      "provenance": [],
      "authorship_tag": "ABX9TyOg6EWum8ntQ5/FXO12sBuL",
      "include_colab_link": true
    },
    "kernelspec": {
      "name": "python3",
      "display_name": "Python 3"
    },
    "language_info": {
      "name": "python"
    }
  },
  "cells": [
    {
      "cell_type": "markdown",
      "metadata": {
        "id": "view-in-github",
        "colab_type": "text"
      },
      "source": [
        "<a href=\"https://colab.research.google.com/github/nannthd/ProjectNNGB/blob/main/drug_resistance_model.ipynb\" target=\"_parent\"><img src=\"https://colab.research.google.com/assets/colab-badge.svg\" alt=\"Open In Colab\"/></a>"
      ]
    },
    {
      "cell_type": "code",
      "source": [
        "from google.colab import drive\n",
        "drive.mount('/content/drive')"
      ],
      "metadata": {
        "colab": {
          "base_uri": "https://localhost:8080/"
        },
        "id": "KM9qixInIIhg",
        "outputId": "586fed56-416a-4d1f-fe04-9ef3836dacf5"
      },
      "execution_count": 2,
      "outputs": [
        {
          "output_type": "stream",
          "name": "stdout",
          "text": [
            "Mounted at /content/drive\n"
          ]
        }
      ]
    },
    {
      "cell_type": "code",
      "source": [
        "import joblib\n",
        "\n",
        "# โหลดโมเดล\n",
        "loaded_model = joblib.load('/content/drive/MyDrive/drug_resistance_model.joblib')\n",
        "\n",
        "# ใช้โมเดลทำนาย\n",
        "new_data = [[0.3416741, 0.2112365, 0.07917809, 0.094627686, 0.11890717, 0.022753553, -0.111244544, -0.1648297, 0.073143266, 0.40807408]]\n",
        "prediction = loaded_model.predict(new_data)\n",
        "for pred in prediction:\n",
        "    if pred == 0:\n",
        "        print(\"ดื้อยา\")\n",
        "    else:\n",
        "        print(\"ไม่ดื้อยา\")"
      ],
      "metadata": {
        "colab": {
          "base_uri": "https://localhost:8080/"
        },
        "id": "K108agR6ISTO",
        "outputId": "00d6ee51-8c7e-4282-bd53-c0289c431b6f"
      },
      "execution_count": 4,
      "outputs": [
        {
          "output_type": "stream",
          "name": "stdout",
          "text": [
            "ไม่ดื้อยา\n"
          ]
        },
        {
          "output_type": "stream",
          "name": "stderr",
          "text": [
            "/usr/local/lib/python3.10/dist-packages/sklearn/base.py:439: UserWarning: X does not have valid feature names, but RandomForestClassifier was fitted with feature names\n",
            "  warnings.warn(\n"
          ]
        }
      ]
    }
  ]
}